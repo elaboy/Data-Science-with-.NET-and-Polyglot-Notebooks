{
 "cells": [
  {
   "cell_type": "code",
   "execution_count": 1,
   "metadata": {
    "dotnet_interactive": {
     "language": "fsharp"
    },
    "polyglot_notebook": {
     "kernelName": "fsharp"
    },
    "vscode": {
     "languageId": "polyglot-notebook"
    }
   },
   "outputs": [
    {
     "data": {
      "text/html": [
       "<div><div></div><div></div><div><strong>Installed Packages</strong><ul><li><span>Microsoft.Data.Analysis, 0.21.1</span></li></ul></div></div>"
      ]
     },
     "metadata": {},
     "output_type": "display_data"
    },
    {
     "data": {
      "text/plain": [
       "Loading extensions from `C:\\Users\\elabo\\.nuget\\packages\\microsoft.data.analysis\\0.21.1\\interactive-extensions\\dotnet\\Microsoft.Data.Analysis.Interactive.dll`"
      ]
     },
     "metadata": {},
     "output_type": "display_data"
    },
    {
     "data": {
      "text/html": [
       "<table id=\"table_638617275251601565\"><thead><tr><th><i>index</i></th><th>Id</th><th>name</th><th>country_of_birth</th><th>date_of_birth</th><th>sub_position</th><th>position</th><th>foot</th><th>height_in_cm</th><th>market_value_in_eur</th><th>BirthYear</th><th>Age</th><th>minutes_played</th><th>goals</th><th>assists</th><th>yellow_cards</th><th>red_cards</th><th>club_id</th><th>club_name</th></tr></thead><tbody><tr><td><i><div class=\"dni-plaintext\"><pre>0</pre></div></i></td><td><div class=\"dni-plaintext\"><pre>3333</pre></div></td><td>Abel Sauer</td><td>United States</td><td><span>1986-01-04 00:00:00Z</span></td><td>Central Midfield</td><td>Midfield</td><td>right</td><td><div class=\"dni-plaintext\"><pre>175</pre></div></td><td><div class=\"dni-plaintext\"><pre>1000000</pre></div></td><td><div class=\"dni-plaintext\"><pre>1986</pre></div></td><td><div class=\"dni-plaintext\"><pre>38</pre></div></td><td><div class=\"dni-plaintext\"><pre>55.640816</pre></div></td><td><div class=\"dni-plaintext\"><pre>0.07755102</pre></div></td><td><div class=\"dni-plaintext\"><pre>0.118367344</pre></div></td><td><div class=\"dni-plaintext\"><pre>0.1632653</pre></div></td><td><div class=\"dni-plaintext\"><pre>0</pre></div></td><td><div class=\"dni-plaintext\"><pre>1237</pre></div></td><td>Hidden Dragons</td></tr><tr><td><i><div class=\"dni-plaintext\"><pre>1</pre></div></i></td><td><div class=\"dni-plaintext\"><pre>71271</pre></div></td><td>Nelson Bednar</td><td>Spain</td><td><span>1987-01-03 00:00:00Z</span></td><td>Goalkeeper</td><td>Goalkeeper</td><td>right</td><td><div class=\"dni-plaintext\"><pre>190</pre></div></td><td><div class=\"dni-plaintext\"><pre>600000</pre></div></td><td><div class=\"dni-plaintext\"><pre>1987</pre></div></td><td><div class=\"dni-plaintext\"><pre>37</pre></div></td><td><div class=\"dni-plaintext\"><pre>81.64286</pre></div></td><td><div class=\"dni-plaintext\"><pre>0</pre></div></td><td><div class=\"dni-plaintext\"><pre>0</pre></div></td><td><div class=\"dni-plaintext\"><pre>0.071428575</pre></div></td><td><div class=\"dni-plaintext\"><pre>0</pre></div></td><td><div class=\"dni-plaintext\"><pre>31</pre></div></td><td>Raging Wildabeasts</td></tr><tr><td><i><div class=\"dni-plaintext\"><pre>2</pre></div></i></td><td><div class=\"dni-plaintext\"><pre>45494</pre></div></td><td>Moses Mitchell</td><td>United States</td><td><span>1987-01-24 00:00:00Z</span></td><td>Goalkeeper</td><td>Goalkeeper</td><td>right</td><td><div class=\"dni-plaintext\"><pre>198</pre></div></td><td><div class=\"dni-plaintext\"><pre>250000</pre></div></td><td><div class=\"dni-plaintext\"><pre>1987</pre></div></td><td><div class=\"dni-plaintext\"><pre>37</pre></div></td><td><div class=\"dni-plaintext\"><pre>67.75</pre></div></td><td><div class=\"dni-plaintext\"><pre>0</pre></div></td><td><div class=\"dni-plaintext\"><pre>0</pre></div></td><td><div class=\"dni-plaintext\"><pre>0</pre></div></td><td><div class=\"dni-plaintext\"><pre>0</pre></div></td><td><div class=\"dni-plaintext\"><pre>703</pre></div></td><td>Diamond Dogs</td></tr><tr><td><i><div class=\"dni-plaintext\"><pre>3</pre></div></i></td><td><div class=\"dni-plaintext\"><pre>52570</pre></div></td><td>Julius Skiles</td><td>England</td><td><span>1988-03-17 00:00:00Z</span></td><td>Goalkeeper</td><td>Goalkeeper</td><td>right</td><td><div class=\"dni-plaintext\"><pre>201</pre></div></td><td><div class=\"dni-plaintext\"><pre>1200000</pre></div></td><td><div class=\"dni-plaintext\"><pre>1988</pre></div></td><td><div class=\"dni-plaintext\"><pre>36</pre></div></td><td><div class=\"dni-plaintext\"><pre>86.78571</pre></div></td><td><div class=\"dni-plaintext\"><pre>0</pre></div></td><td><div class=\"dni-plaintext\"><pre>0</pre></div></td><td><div class=\"dni-plaintext\"><pre>0.071428575</pre></div></td><td><div class=\"dni-plaintext\"><pre>0</pre></div></td><td><div class=\"dni-plaintext\"><pre>148</pre></div></td><td>Purple Cobras</td></tr><tr><td><i><div class=\"dni-plaintext\"><pre>4</pre></div></i></td><td><div class=\"dni-plaintext\"><pre>33027</pre></div></td><td>Dewey Luettgen</td><td>United States</td><td><span>1988-04-03 00:00:00Z</span></td><td>Goalkeeper</td><td>Goalkeeper</td><td>left</td><td><div class=\"dni-plaintext\"><pre>193</pre></div></td><td><div class=\"dni-plaintext\"><pre>500000</pre></div></td><td><div class=\"dni-plaintext\"><pre>1988</pre></div></td><td><div class=\"dni-plaintext\"><pre>36</pre></div></td><td><div class=\"dni-plaintext\"><pre>89.66327</pre></div></td><td><div class=\"dni-plaintext\"><pre>0</pre></div></td><td><div class=\"dni-plaintext\"><pre>0.020408163</pre></div></td><td><div class=\"dni-plaintext\"><pre>0.010204081</pre></div></td><td><div class=\"dni-plaintext\"><pre>0</pre></div></td><td><div class=\"dni-plaintext\"><pre>1031</pre></div></td><td>Flying Squirrels</td></tr></tbody></table><style>\r\n",
       ".dni-code-hint {\r\n",
       "    font-style: italic;\r\n",
       "    overflow: hidden;\r\n",
       "    white-space: nowrap;\r\n",
       "}\r\n",
       ".dni-treeview {\r\n",
       "    white-space: nowrap;\r\n",
       "}\r\n",
       ".dni-treeview td {\r\n",
       "    vertical-align: top;\r\n",
       "    text-align: start;\r\n",
       "}\r\n",
       "details.dni-treeview {\r\n",
       "    padding-left: 1em;\r\n",
       "}\r\n",
       "table td {\r\n",
       "    text-align: start;\r\n",
       "}\r\n",
       "table tr { \r\n",
       "    vertical-align: top; \r\n",
       "    margin: 0em 0px;\r\n",
       "}\r\n",
       "table tr td pre \r\n",
       "{ \r\n",
       "    vertical-align: top !important; \r\n",
       "    margin: 0em 0px !important;\r\n",
       "} \r\n",
       "table th {\r\n",
       "    text-align: start;\r\n",
       "}\r\n",
       "</style>"
      ]
     },
     "metadata": {},
     "output_type": "display_data"
    }
   ],
   "source": [
    "#r \"nuget:Microsoft.Data.Analysis,0.21.1\"\n",
    "open Microsoft.Data.Analysis\n",
    "\n",
    "let df = DataFrame.LoadCsv(\"JoinedStats.csv\")\n",
    "df.Head(5)"
   ]
  },
  {
   "cell_type": "code",
   "execution_count": 2,
   "metadata": {
    "dotnet_interactive": {
     "language": "fsharp"
    },
    "polyglot_notebook": {
     "kernelName": "fsharp"
    },
    "vscode": {
     "languageId": "polyglot-notebook"
    }
   },
   "outputs": [
    {
     "data": {
      "text/html": [
       "<table id=\"table_638617275252460093\"><thead><tr><th><i>index</i></th><th>Description</th><th>Id</th><th>date_of_birth</th><th>height_in_cm</th><th>market_value_in_eur</th><th>BirthYear</th><th>Age</th><th>minutes_played</th><th>goals</th><th>assists</th><th>yellow_cards</th><th>red_cards</th><th>club_id</th></tr></thead><tbody><tr><td><i><div class=\"dni-plaintext\"><pre>0</pre></div></i></td><td>Length (excluding null values)</td><td><div class=\"dni-plaintext\"><pre>204</pre></div></td><td><div class=\"dni-plaintext\"><pre>204</pre></div></td><td><div class=\"dni-plaintext\"><pre>204</pre></div></td><td><div class=\"dni-plaintext\"><pre>204</pre></div></td><td><div class=\"dni-plaintext\"><pre>204</pre></div></td><td><div class=\"dni-plaintext\"><pre>204</pre></div></td><td><div class=\"dni-plaintext\"><pre>204</pre></div></td><td><div class=\"dni-plaintext\"><pre>204</pre></div></td><td><div class=\"dni-plaintext\"><pre>204</pre></div></td><td><div class=\"dni-plaintext\"><pre>204</pre></div></td><td><div class=\"dni-plaintext\"><pre>204</pre></div></td><td><div class=\"dni-plaintext\"><pre>204</pre></div></td></tr><tr><td><i><div class=\"dni-plaintext\"><pre>1</pre></div></i></td><td>Max</td><td><div class=\"dni-plaintext\"><pre>1005649</pre></div></td><td><div class=\"dni-plaintext\"><pre>&lt;null&gt;</pre></div></td><td><div class=\"dni-plaintext\"><pre>201</pre></div></td><td><div class=\"dni-plaintext\"><pre>85000000</pre></div></td><td><div class=\"dni-plaintext\"><pre>2006</pre></div></td><td><div class=\"dni-plaintext\"><pre>38</pre></div></td><td><div class=\"dni-plaintext\"><pre>90</pre></div></td><td><div class=\"dni-plaintext\"><pre>0.6344538</pre></div></td><td><div class=\"dni-plaintext\"><pre>1.5</pre></div></td><td><div class=\"dni-plaintext\"><pre>0.5</pre></div></td><td><div class=\"dni-plaintext\"><pre>0.020833334</pre></div></td><td><div class=\"dni-plaintext\"><pre>1237</pre></div></td></tr><tr><td><i><div class=\"dni-plaintext\"><pre>2</pre></div></i></td><td>Min</td><td><div class=\"dni-plaintext\"><pre>3333</pre></div></td><td><div class=\"dni-plaintext\"><pre>&lt;null&gt;</pre></div></td><td><div class=\"dni-plaintext\"><pre>163</pre></div></td><td><div class=\"dni-plaintext\"><pre>250000</pre></div></td><td><div class=\"dni-plaintext\"><pre>1986</pre></div></td><td><div class=\"dni-plaintext\"><pre>18</pre></div></td><td><div class=\"dni-plaintext\"><pre>1</pre></div></td><td><div class=\"dni-plaintext\"><pre>0</pre></div></td><td><div class=\"dni-plaintext\"><pre>0</pre></div></td><td><div class=\"dni-plaintext\"><pre>0</pre></div></td><td><div class=\"dni-plaintext\"><pre>0</pre></div></td><td><div class=\"dni-plaintext\"><pre>31</pre></div></td></tr><tr><td><i><div class=\"dni-plaintext\"><pre>3</pre></div></i></td><td>Mean</td><td><div class=\"dni-plaintext\"><pre>365914.8</pre></div></td><td><div class=\"dni-plaintext\"><pre>&lt;null&gt;</pre></div></td><td><div class=\"dni-plaintext\"><pre>183.47058</pre></div></td><td><div class=\"dni-plaintext\"><pre>19237496</pre></div></td><td><div class=\"dni-plaintext\"><pre>1996.9166</pre></div></td><td><div class=\"dni-plaintext\"><pre>27.083334</pre></div></td><td><div class=\"dni-plaintext\"><pre>64.336006</pre></div></td><td><div class=\"dni-plaintext\"><pre>0.083429985</pre></div></td><td><div class=\"dni-plaintext\"><pre>0.07747277</pre></div></td><td><div class=\"dni-plaintext\"><pre>0.12595744</pre></div></td><td><div class=\"dni-plaintext\"><pre>0.0012042082</pre></div></td><td><div class=\"dni-plaintext\"><pre>749.35785</pre></div></td></tr></tbody></table><style>\r\n",
       ".dni-code-hint {\r\n",
       "    font-style: italic;\r\n",
       "    overflow: hidden;\r\n",
       "    white-space: nowrap;\r\n",
       "}\r\n",
       ".dni-treeview {\r\n",
       "    white-space: nowrap;\r\n",
       "}\r\n",
       ".dni-treeview td {\r\n",
       "    vertical-align: top;\r\n",
       "    text-align: start;\r\n",
       "}\r\n",
       "details.dni-treeview {\r\n",
       "    padding-left: 1em;\r\n",
       "}\r\n",
       "table td {\r\n",
       "    text-align: start;\r\n",
       "}\r\n",
       "table tr { \r\n",
       "    vertical-align: top; \r\n",
       "    margin: 0em 0px;\r\n",
       "}\r\n",
       "table tr td pre \r\n",
       "{ \r\n",
       "    vertical-align: top !important; \r\n",
       "    margin: 0em 0px !important;\r\n",
       "} \r\n",
       "table th {\r\n",
       "    text-align: start;\r\n",
       "}\r\n",
       "</style>"
      ]
     },
     "metadata": {},
     "output_type": "display_data"
    }
   ],
   "source": [
    "df.Description()"
   ]
  },
  {
   "cell_type": "code",
   "execution_count": 3,
   "metadata": {
    "dotnet_interactive": {
     "language": "fsharp"
    },
    "polyglot_notebook": {
     "kernelName": "fsharp"
    },
    "vscode": {
     "languageId": "polyglot-notebook"
    }
   },
   "outputs": [
    {
     "data": {
      "text/html": [
       "<div><div></div><div></div><div><strong>Installed Packages</strong><ul><li><span>MathNet.Numerics, 5.0.0</span></li></ul></div></div>"
      ]
     },
     "metadata": {},
     "output_type": "display_data"
    }
   ],
   "source": [
    "#r \"nuget:MathNet.Numerics, 5.0.0\"\n",
    "open MathNet.Numerics.Statistics"
   ]
  },
  {
   "cell_type": "code",
   "execution_count": 4,
   "metadata": {
    "dotnet_interactive": {
     "language": "fsharp"
    },
    "polyglot_notebook": {
     "kernelName": "fsharp"
    },
    "vscode": {
     "languageId": "polyglot-notebook"
    }
   },
   "outputs": [],
   "source": [
    "let sortedValues = df[\"market_value_in_eur\"]\n",
    "                |> Seq.cast<single>\n",
    "                |> Seq.map float\n",
    "                |> Array.ofSeq\n",
    "                |> Array.sort"
   ]
  },
  {
   "cell_type": "code",
   "execution_count": 5,
   "metadata": {
    "dotnet_interactive": {
     "language": "fsharp"
    },
    "polyglot_notebook": {
     "kernelName": "fsharp"
    },
    "vscode": {
     "languageId": "polyglot-notebook"
    }
   },
   "outputs": [
    {
     "data": {
      "text/html": [
       "<details open=\"open\" class=\"dni-treeview\"><summary><span class=\"dni-code-hint\"><code>MathNet.Numerics.Statistics.DescriptiveStatistics</code></span></summary><div><table><thead><tr></tr></thead><tbody><tr><td>Count</td><td><div class=\"dni-plaintext\"><pre>204</pre></div></td></tr><tr><td>Mean</td><td><div class=\"dni-plaintext\"><pre>19237500</pre></div></td></tr><tr><td>Variance</td><td><div class=\"dni-plaintext\"><pre>315500963669950.8</pre></div></td></tr><tr><td>StandardDeviation</td><td><div class=\"dni-plaintext\"><pre>17762346.795115527</pre></div></td></tr><tr><td>Skewness</td><td><div class=\"dni-plaintext\"><pre>1.4088863400583054</pre></div></td></tr><tr><td>Kurtosis</td><td><div class=\"dni-plaintext\"><pre>1.788555733184937</pre></div></td></tr><tr><td>Maximum</td><td><div class=\"dni-plaintext\"><pre>85000000</pre></div></td></tr><tr><td>Minimum</td><td><div class=\"dni-plaintext\"><pre>250000</pre></div></td></tr></tbody></table></div></details><style>\r\n",
       ".dni-code-hint {\r\n",
       "    font-style: italic;\r\n",
       "    overflow: hidden;\r\n",
       "    white-space: nowrap;\r\n",
       "}\r\n",
       ".dni-treeview {\r\n",
       "    white-space: nowrap;\r\n",
       "}\r\n",
       ".dni-treeview td {\r\n",
       "    vertical-align: top;\r\n",
       "    text-align: start;\r\n",
       "}\r\n",
       "details.dni-treeview {\r\n",
       "    padding-left: 1em;\r\n",
       "}\r\n",
       "table td {\r\n",
       "    text-align: start;\r\n",
       "}\r\n",
       "table tr { \r\n",
       "    vertical-align: top; \r\n",
       "    margin: 0em 0px;\r\n",
       "}\r\n",
       "table tr td pre \r\n",
       "{ \r\n",
       "    vertical-align: top !important; \r\n",
       "    margin: 0em 0px !important;\r\n",
       "} \r\n",
       "table th {\r\n",
       "    text-align: start;\r\n",
       "}\r\n",
       "</style>"
      ]
     },
     "metadata": {},
     "output_type": "display_data"
    }
   ],
   "source": [
    "DescriptiveStatistics(sortedValues)"
   ]
  },
  {
   "cell_type": "code",
   "execution_count": 6,
   "metadata": {
    "dotnet_interactive": {
     "language": "fsharp"
    },
    "polyglot_notebook": {
     "kernelName": "fsharp"
    },
    "vscode": {
     "languageId": "polyglot-notebook"
    }
   },
   "outputs": [
    {
     "data": {
      "text/html": [
       "<div class=\"dni-plaintext\"><pre>15000000</pre></div><style>\r\n",
       ".dni-code-hint {\r\n",
       "    font-style: italic;\r\n",
       "    overflow: hidden;\r\n",
       "    white-space: nowrap;\r\n",
       "}\r\n",
       ".dni-treeview {\r\n",
       "    white-space: nowrap;\r\n",
       "}\r\n",
       ".dni-treeview td {\r\n",
       "    vertical-align: top;\r\n",
       "    text-align: start;\r\n",
       "}\r\n",
       "details.dni-treeview {\r\n",
       "    padding-left: 1em;\r\n",
       "}\r\n",
       "table td {\r\n",
       "    text-align: start;\r\n",
       "}\r\n",
       "table tr { \r\n",
       "    vertical-align: top; \r\n",
       "    margin: 0em 0px;\r\n",
       "}\r\n",
       "table tr td pre \r\n",
       "{ \r\n",
       "    vertical-align: top !important; \r\n",
       "    margin: 0em 0px !important;\r\n",
       "} \r\n",
       "table th {\r\n",
       "    text-align: start;\r\n",
       "}\r\n",
       "</style>"
      ]
     },
     "metadata": {},
     "output_type": "display_data"
    }
   ],
   "source": [
    "SortedArrayStatistics.Median(sortedValues)"
   ]
  },
  {
   "cell_type": "code",
   "execution_count": 7,
   "metadata": {
    "dotnet_interactive": {
     "language": "fsharp"
    },
    "polyglot_notebook": {
     "kernelName": "fsharp"
    },
    "vscode": {
     "languageId": "polyglot-notebook"
    }
   },
   "outputs": [
    {
     "data": {
      "text/html": [
       "<div class=\"dni-plaintext\"><pre>6416666.666666672</pre></div><style>\r\n",
       ".dni-code-hint {\r\n",
       "    font-style: italic;\r\n",
       "    overflow: hidden;\r\n",
       "    white-space: nowrap;\r\n",
       "}\r\n",
       ".dni-treeview {\r\n",
       "    white-space: nowrap;\r\n",
       "}\r\n",
       ".dni-treeview td {\r\n",
       "    vertical-align: top;\r\n",
       "    text-align: start;\r\n",
       "}\r\n",
       "details.dni-treeview {\r\n",
       "    padding-left: 1em;\r\n",
       "}\r\n",
       "table td {\r\n",
       "    text-align: start;\r\n",
       "}\r\n",
       "table tr { \r\n",
       "    vertical-align: top; \r\n",
       "    margin: 0em 0px;\r\n",
       "}\r\n",
       "table tr td pre \r\n",
       "{ \r\n",
       "    vertical-align: top !important; \r\n",
       "    margin: 0em 0px !important;\r\n",
       "} \r\n",
       "table th {\r\n",
       "    text-align: start;\r\n",
       "}\r\n",
       "</style>"
      ]
     },
     "metadata": {},
     "output_type": "display_data"
    }
   ],
   "source": [
    "SortedArrayStatistics.LowerQuartile(sortedValues)"
   ]
  },
  {
   "cell_type": "code",
   "execution_count": 8,
   "metadata": {
    "dotnet_interactive": {
     "language": "fsharp"
    },
    "polyglot_notebook": {
     "kernelName": "fsharp"
    },
    "vscode": {
     "languageId": "polyglot-notebook"
    }
   },
   "outputs": [
    {
     "data": {
      "text/html": [
       "<div class=\"dni-plaintext\"><pre>28000000</pre></div><style>\r\n",
       ".dni-code-hint {\r\n",
       "    font-style: italic;\r\n",
       "    overflow: hidden;\r\n",
       "    white-space: nowrap;\r\n",
       "}\r\n",
       ".dni-treeview {\r\n",
       "    white-space: nowrap;\r\n",
       "}\r\n",
       ".dni-treeview td {\r\n",
       "    vertical-align: top;\r\n",
       "    text-align: start;\r\n",
       "}\r\n",
       "details.dni-treeview {\r\n",
       "    padding-left: 1em;\r\n",
       "}\r\n",
       "table td {\r\n",
       "    text-align: start;\r\n",
       "}\r\n",
       "table tr { \r\n",
       "    vertical-align: top; \r\n",
       "    margin: 0em 0px;\r\n",
       "}\r\n",
       "table tr td pre \r\n",
       "{ \r\n",
       "    vertical-align: top !important; \r\n",
       "    margin: 0em 0px !important;\r\n",
       "} \r\n",
       "table th {\r\n",
       "    text-align: start;\r\n",
       "}\r\n",
       "</style>"
      ]
     },
     "metadata": {},
     "output_type": "display_data"
    }
   ],
   "source": [
    "SortedArrayStatistics.UpperQuartile(sortedValues)"
   ]
  },
  {
   "cell_type": "code",
   "execution_count": 9,
   "metadata": {
    "dotnet_interactive": {
     "language": "fsharp"
    },
    "polyglot_notebook": {
     "kernelName": "fsharp"
    },
    "vscode": {
     "languageId": "polyglot-notebook"
    }
   },
   "outputs": [
    {
     "data": {
      "text/html": [
       "<div><div></div><div></div><div><strong>Installed Packages</strong><ul><li><span>Plotly.NET, 5.0.0</span></li><li><span>Plotly.NET.Interactive, 5.0.0</span></li><li><span>ScottPlot, 5.0.37</span></li></ul></div></div>"
      ]
     },
     "metadata": {},
     "output_type": "display_data"
    },
    {
     "data": {
      "text/plain": [
       "Loading extensions from `C:\\Users\\elabo\\.nuget\\packages\\plotly.net.interactive\\5.0.0\\lib\\netstandard2.1\\Plotly.NET.Interactive.dll`"
      ]
     },
     "metadata": {},
     "output_type": "display_data"
    },
    {
     "data": {
      "text/plain": [
       "Loading extensions from `C:\\Users\\elabo\\.nuget\\packages\\skiasharp\\2.88.8\\interactive-extensions\\dotnet\\SkiaSharp.DotNet.Interactive.dll`"
      ]
     },
     "metadata": {},
     "output_type": "display_data"
    }
   ],
   "source": [
    "#r \"nuget:ScottPlot,5.0.37\"\n",
    "#r \"nuget:Plotly.NET,5.0.0\"\n",
    "#r \"nuget:Plotly.NET.Interactive,5.0.0\""
   ]
  },
  {
   "cell_type": "code",
   "execution_count": 10,
   "metadata": {
    "dotnet_interactive": {
     "language": "fsharp"
    },
    "polyglot_notebook": {
     "kernelName": "fsharp"
    },
    "vscode": {
     "languageId": "polyglot-notebook"
    }
   },
   "outputs": [],
   "source": [
    "open ScottPlot\n",
    "open System.IO\n",
    "open Microsoft.DotNet.Interactive.Formatting\n",
    "\n",
    "Formatter.Register<ScottPlot.Plot>(\n",
    "    (fun (plot: ScottPlot.Plot) (writer:TextWriter) -> \n",
    "        writer.Write(plot.GetImageHtml(400, 300))), mimeType = \"text/html\")"
   ]
  },
  {
   "cell_type": "code",
   "execution_count": 11,
   "metadata": {
    "dotnet_interactive": {
     "language": "fsharp"
    },
    "polyglot_notebook": {
     "kernelName": "fsharp"
    },
    "vscode": {
     "languageId": "polyglot-notebook"
    }
   },
   "outputs": [
    {
     "data": {
      "text/html": [
       "<img src=\"data:image/png;base64,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\"></img>"
      ]
     },
     "metadata": {},
     "output_type": "display_data"
    }
   ],
   "source": [
    "let plot = new Plot();\n",
    "plot.Title \"Player Marker Value Distribution\"\n",
    "plot.Add.Box(new Box(\n",
    "    WhiskerMax = (sortedValues |> Array.max),\n",
    "    BoxMax = (sortedValues |> SortedArrayStatistics.UpperQuartile),\n",
    "    BoxMiddle = (sortedValues |> SortedArrayStatistics.Median),\n",
    "    BoxMin = (sortedValues |> SortedArrayStatistics.LowerQuartile),\n",
    "    WhiskerMin = (sortedValues |> Array.min)\n",
    "))\n",
    "plot"
   ]
  },
  {
   "cell_type": "code",
   "execution_count": 12,
   "metadata": {
    "dotnet_interactive": {
     "language": "fsharp"
    },
    "polyglot_notebook": {
     "kernelName": "fsharp"
    },
    "vscode": {
     "languageId": "polyglot-notebook"
    }
   },
   "outputs": [],
   "source": [
    "let marketValues = df[\"market_value_in_eur\"] |> Seq.cast<single>\n",
    "let positions = df[\"position\"] |> Seq.cast<string>\n",
    "let clubs = df[\"club_name\"] |> Seq.cast<string>\n",
    "let goals = df[\"goals\"] |> Seq.cast<single>\n",
    "let assists = df[\"assists\"] |> Seq.cast<single>\n",
    "let minutesPerGame = df[\"minutes_played\"] |> Seq.cast<single>\n",
    "let redCards = df[\"red_cards\"] |> Seq.cast<single>\n",
    "let playerNames = df[\"name\"] |> Seq.cast<string>"
   ]
  },
  {
   "cell_type": "code",
   "execution_count": 13,
   "metadata": {
    "dotnet_interactive": {
     "language": "fsharp"
    },
    "polyglot_notebook": {
     "kernelName": "fsharp"
    },
    "vscode": {
     "languageId": "polyglot-notebook"
    }
   },
   "outputs": [
    {
     "data": {
      "text/html": [
       "<div><div id=\"f19f26db-ea0a-4f7d-bd38-f06814b1afb8\"><!-- Plotly chart will be drawn inside this DIV --></div><script type=\"text/javascript\">\n",
       "var renderPlotly_f19f26dbea0a4f7dbd38f06814b1afb8 = function() {\n",
       "    var fsharpPlotlyRequire = requirejs.config({context:'fsharp-plotly',paths:{plotly:'https://cdn.plot.ly/plotly-2.27.1.min'}}) || require;\n",
       "    fsharpPlotlyRequire(['plotly'], function(Plotly) {\n",
       "        var data = [{\"type\":\"box\",\"y\":[1000000.0,600000.0,250000.0,1200000.0,500000.0,1000000.0,1000000.0,1500000.0,2500000.0,1000000.0,1000000.0,1000000.0,400000.0,1000000.0,3500000.0,11000000.0,6000000.0,2500000.0,10000000.0,1000000.0,8000000.0,32000000.0,1800000.0,8000000.0,900000.0,14000000.0,7000000.0,10000000.0,10000000.0,7000000.0,13000000.0,20000000.0,10000000.0,65000000.0,50000000.0,400000.0,32000000.0,1500000.0,2800000.0,13000000.0,15000000.0,15000000.0,12000000.0,1000000.0,2000000.0,1000000.0,7000000.0,7000000.0,5000000.0,30000000.0,20000000.0,35000000.0,1500000.0,10000000.0,2500000.0,10000000.0,22000000.0,2500000.0,1000000.0,3500000.0,20000000.0,12000000.0,15000000.0,3000000.0,5000000.0,28000000.0,5000000.0,10000000.0,13000000.0,30000000.0,17000000.0,16000000.0,35000000.0,16000000.0,22000000.0,22000000.0,42000000.0,10000000.0,30000000.0,1800000.0,25000000.0,30000000.0,8000000.0,70000000.0,50000000.0,10000000.0,10000000.0,75000000.0,10000000.0,3000000.0,35000000.0,20000000.0,25000000.0,50000000.0,22000000.0,3000000.0,35000000.0,25000000.0,28000000.0,25000000.0,25000000.0,7000000.0,85000000.0,12000000.0,32000000.0,35000000.0,3000000.0,9000000.0,7000000.0,35000000.0,17000000.0,2500000.0,4000000.0,18000000.0,65000000.0,22000000.0,17000000.0,15000000.0,1000000.0,16000000.0,70000000.0,12000000.0,15000000.0,65000000.0,18000000.0,17000000.0,10000000.0,11000000.0,50000000.0,3500000.0,38000000.0,17000000.0,65000000.0,8000000.0,18000000.0,38000000.0,35000000.0,45000000.0,70000000.0,12000000.0,4500000.0,4500000.0,18000000.0,10000000.0,45000000.0,16000000.0,40000000.0,55000000.0,40000000.0,13000000.0,15000000.0,10000000.0,15000000.0,12000000.0,75000000.0,12000000.0,30000000.0,1800000.0,16000000.0,12000000.0,50000000.0,17000000.0,45000000.0,28000000.0,25000000.0,10000000.0,48000000.0,18000000.0,35000000.0,25000000.0,25000000.0,2000000.0,20000000.0,20000000.0,18000000.0,7000000.0,35000000.0,30000000.0,11000000.0,22000000.0,15000000.0,25000000.0,35000000.0,30000000.0,13000000.0,35000000.0,20000000.0,40000000.0,6000000.0,30000000.0,2000000.0,20000000.0,20000000.0,20000000.0,22000000.0,2500000.0,18000000.0,65000000.0,11000000.0,12000000.0,7000000.0,3000000.0,10000000.0,13000000.0],\"marker\":{},\"line\":{},\"name\":\"Market Value\"}];\n",
       "        var layout = {\"width\":600,\"height\":800,\"template\":{\"layout\":{\"title\":{\"x\":0.05},\"font\":{\"color\":\"rgba(42, 63, 95, 1.0)\"},\"paper_bgcolor\":\"rgba(255, 255, 255, 1.0)\",\"plot_bgcolor\":\"rgba(229, 236, 246, 1.0)\",\"autotypenumbers\":\"strict\",\"colorscale\":{\"diverging\":[[0.0,\"#8e0152\"],[0.1,\"#c51b7d\"],[0.2,\"#de77ae\"],[0.3,\"#f1b6da\"],[0.4,\"#fde0ef\"],[0.5,\"#f7f7f7\"],[0.6,\"#e6f5d0\"],[0.7,\"#b8e186\"],[0.8,\"#7fbc41\"],[0.9,\"#4d9221\"],[1.0,\"#276419\"]],\"sequential\":[[0.0,\"#0d0887\"],[0.1111111111111111,\"#46039f\"],[0.2222222222222222,\"#7201a8\"],[0.3333333333333333,\"#9c179e\"],[0.4444444444444444,\"#bd3786\"],[0.5555555555555556,\"#d8576b\"],[0.6666666666666666,\"#ed7953\"],[0.7777777777777778,\"#fb9f3a\"],[0.8888888888888888,\"#fdca26\"],[1.0,\"#f0f921\"]],\"sequentialminus\":[[0.0,\"#0d0887\"],[0.1111111111111111,\"#46039f\"],[0.2222222222222222,\"#7201a8\"],[0.3333333333333333,\"#9c179e\"],[0.4444444444444444,\"#bd3786\"],[0.5555555555555556,\"#d8576b\"],[0.6666666666666666,\"#ed7953\"],[0.7777777777777778,\"#fb9f3a\"],[0.8888888888888888,\"#fdca26\"],[1.0,\"#f0f921\"]]},\"hovermode\":\"closest\",\"hoverlabel\":{\"align\":\"left\"},\"coloraxis\":{\"colorbar\":{\"outlinewidth\":0.0,\"ticks\":\"\"}},\"geo\":{\"showland\":true,\"landcolor\":\"rgba(229, 236, 246, 1.0)\",\"showlakes\":true,\"lakecolor\":\"rgba(255, 255, 255, 1.0)\",\"subunitcolor\":\"rgba(255, 255, 255, 1.0)\",\"bgcolor\":\"rgba(255, 255, 255, 1.0)\"},\"mapbox\":{\"style\":\"light\"},\"polar\":{\"bgcolor\":\"rgba(229, 236, 246, 1.0)\",\"radialaxis\":{\"linecolor\":\"rgba(255, 255, 255, 1.0)\",\"gridcolor\":\"rgba(255, 255, 255, 1.0)\",\"ticks\":\"\"},\"angularaxis\":{\"linecolor\":\"rgba(255, 255, 255, 1.0)\",\"gridcolor\":\"rgba(255, 255, 255, 1.0)\",\"ticks\":\"\"}},\"scene\":{\"xaxis\":{\"ticks\":\"\",\"linecolor\":\"rgba(255, 255, 255, 1.0)\",\"gridcolor\":\"rgba(255, 255, 255, 1.0)\",\"gridwidth\":2.0,\"zerolinecolor\":\"rgba(255, 255, 255, 1.0)\",\"backgroundcolor\":\"rgba(229, 236, 246, 1.0)\",\"showbackground\":true},\"yaxis\":{\"ticks\":\"\",\"linecolor\":\"rgba(255, 255, 255, 1.0)\",\"gridcolor\":\"rgba(255, 255, 255, 1.0)\",\"gridwidth\":2.0,\"zerolinecolor\":\"rgba(255, 255, 255, 1.0)\",\"backgroundcolor\":\"rgba(229, 236, 246, 1.0)\",\"showbackground\":true},\"zaxis\":{\"ticks\":\"\",\"linecolor\":\"rgba(255, 255, 255, 1.0)\",\"gridcolor\":\"rgba(255, 255, 255, 1.0)\",\"gridwidth\":2.0,\"zerolinecolor\":\"rgba(255, 255, 255, 1.0)\",\"backgroundcolor\":\"rgba(229, 236, 246, 1.0)\",\"showbackground\":true}},\"ternary\":{\"aaxis\":{\"ticks\":\"\",\"linecolor\":\"rgba(255, 255, 255, 1.0)\",\"gridcolor\":\"rgba(255, 255, 255, 1.0)\"},\"baxis\":{\"ticks\":\"\",\"linecolor\":\"rgba(255, 255, 255, 1.0)\",\"gridcolor\":\"rgba(255, 255, 255, 1.0)\"},\"caxis\":{\"ticks\":\"\",\"linecolor\":\"rgba(255, 255, 255, 1.0)\",\"gridcolor\":\"rgba(255, 255, 255, 1.0)\"},\"bgcolor\":\"rgba(229, 236, 246, 1.0)\"},\"xaxis\":{\"title\":{\"standoff\":15},\"ticks\":\"\",\"automargin\":\"height+width+left+right+top+bottom\",\"linecolor\":\"rgba(255, 255, 255, 1.0)\",\"gridcolor\":\"rgba(255, 255, 255, 1.0)\",\"zerolinecolor\":\"rgba(255, 255, 255, 1.0)\",\"zerolinewidth\":2.0},\"yaxis\":{\"title\":{\"standoff\":15},\"ticks\":\"\",\"automargin\":\"height+width+left+right+top+bottom\",\"linecolor\":\"rgba(255, 255, 255, 1.0)\",\"gridcolor\":\"rgba(255, 255, 255, 1.0)\",\"zerolinecolor\":\"rgba(255, 255, 255, 1.0)\",\"zerolinewidth\":2.0},\"annotationdefaults\":{\"arrowcolor\":\"#2a3f5f\",\"arrowhead\":0,\"arrowwidth\":1},\"shapedefaults\":{\"line\":{\"color\":\"rgba(42, 63, 95, 1.0)\"}},\"colorway\":[\"rgba(99, 110, 250, 1.0)\",\"rgba(239, 85, 59, 1.0)\",\"rgba(0, 204, 150, 1.0)\",\"rgba(171, 99, 250, 1.0)\",\"rgba(255, 161, 90, 1.0)\",\"rgba(25, 211, 243, 1.0)\",\"rgba(255, 102, 146, 1.0)\",\"rgba(182, 232, 128, 1.0)\",\"rgba(255, 151, 255, 1.0)\",\"rgba(254, 203, 82, 1.0)\"]},\"data\":{\"bar\":[{\"marker\":{\"line\":{\"color\":\"rgba(229, 236, 246, 1.0)\",\"width\":0.5},\"pattern\":{\"fillmode\":\"overlay\",\"size\":10,\"solidity\":0.2}},\"error_x\":{\"color\":\"rgba(42, 63, 95, 1.0)\"},\"error_y\":{\"color\":\"rgba(42, 63, 95, 1.0)\"}}],\"barpolar\":[{\"marker\":{\"line\":{\"color\":\"rgba(229, 236, 246, 1.0)\",\"width\":0.5},\"pattern\":{\"fillmode\":\"overlay\",\"size\":10,\"solidity\":0.2}}}],\"carpet\":[{\"aaxis\":{\"linecolor\":\"rgba(255, 255, 255, 1.0)\",\"gridcolor\":\"rgba(255, 255, 255, 1.0)\",\"endlinecolor\":\"rgba(42, 63, 95, 1.0)\",\"minorgridcolor\":\"rgba(255, 255, 255, 1.0)\",\"startlinecolor\":\"rgba(42, 63, 95, 1.0)\"},\"baxis\":{\"linecolor\":\"rgba(255, 255, 255, 1.0)\",\"gridcolor\":\"rgba(255, 255, 255, 1.0)\",\"endlinecolor\":\"rgba(42, 63, 95, 1.0)\",\"minorgridcolor\":\"rgba(255, 255, 255, 1.0)\",\"startlinecolor\":\"rgba(42, 63, 95, 1.0)\"}}],\"choropleth\":[{\"colorbar\":{\"outlinewidth\":0.0,\"ticks\":\"\"},\"colorscale\":[[0.0,\"#0d0887\"],[0.1111111111111111,\"#46039f\"],[0.2222222222222222,\"#7201a8\"],[0.3333333333333333,\"#9c179e\"],[0.4444444444444444,\"#bd3786\"],[0.5555555555555556,\"#d8576b\"],[0.6666666666666666,\"#ed7953\"],[0.7777777777777778,\"#fb9f3a\"],[0.8888888888888888,\"#fdca26\"],[1.0,\"#f0f921\"]]}],\"contour\":[{\"colorbar\":{\"outlinewidth\":0.0,\"ticks\":\"\"},\"colorscale\":[[0.0,\"#0d0887\"],[0.1111111111111111,\"#46039f\"],[0.2222222222222222,\"#7201a8\"],[0.3333333333333333,\"#9c179e\"],[0.4444444444444444,\"#bd3786\"],[0.5555555555555556,\"#d8576b\"],[0.6666666666666666,\"#ed7953\"],[0.7777777777777778,\"#fb9f3a\"],[0.8888888888888888,\"#fdca26\"],[1.0,\"#f0f921\"]]}],\"contourcarpet\":[{\"colorbar\":{\"outlinewidth\":0.0,\"ticks\":\"\"}}],\"heatmap\":[{\"colorbar\":{\"outlinewidth\":0.0,\"ticks\":\"\"},\"colorscale\":[[0.0,\"#0d0887\"],[0.1111111111111111,\"#46039f\"],[0.2222222222222222,\"#7201a8\"],[0.3333333333333333,\"#9c179e\"],[0.4444444444444444,\"#bd3786\"],[0.5555555555555556,\"#d8576b\"],[0.6666666666666666,\"#ed7953\"],[0.7777777777777778,\"#fb9f3a\"],[0.8888888888888888,\"#fdca26\"],[1.0,\"#f0f921\"]]}],\"heatmapgl\":[{\"colorbar\":{\"outlinewidth\":0.0,\"ticks\":\"\"},\"colorscale\":[[0.0,\"#0d0887\"],[0.1111111111111111,\"#46039f\"],[0.2222222222222222,\"#7201a8\"],[0.3333333333333333,\"#9c179e\"],[0.4444444444444444,\"#bd3786\"],[0.5555555555555556,\"#d8576b\"],[0.6666666666666666,\"#ed7953\"],[0.7777777777777778,\"#fb9f3a\"],[0.8888888888888888,\"#fdca26\"],[1.0,\"#f0f921\"]]}],\"histogram\":[{\"marker\":{\"pattern\":{\"fillmode\":\"overlay\",\"size\":10,\"solidity\":0.2}}}],\"histogram2d\":[{\"colorbar\":{\"outlinewidth\":0.0,\"ticks\":\"\"},\"colorscale\":[[0.0,\"#0d0887\"],[0.1111111111111111,\"#46039f\"],[0.2222222222222222,\"#7201a8\"],[0.3333333333333333,\"#9c179e\"],[0.4444444444444444,\"#bd3786\"],[0.5555555555555556,\"#d8576b\"],[0.6666666666666666,\"#ed7953\"],[0.7777777777777778,\"#fb9f3a\"],[0.8888888888888888,\"#fdca26\"],[1.0,\"#f0f921\"]]}],\"histogram2dcontour\":[{\"colorbar\":{\"outlinewidth\":0.0,\"ticks\":\"\"},\"colorscale\":[[0.0,\"#0d0887\"],[0.1111111111111111,\"#46039f\"],[0.2222222222222222,\"#7201a8\"],[0.3333333333333333,\"#9c179e\"],[0.4444444444444444,\"#bd3786\"],[0.5555555555555556,\"#d8576b\"],[0.6666666666666666,\"#ed7953\"],[0.7777777777777778,\"#fb9f3a\"],[0.8888888888888888,\"#fdca26\"],[1.0,\"#f0f921\"]]}],\"mesh3d\":[{\"colorbar\":{\"outlinewidth\":0.0,\"ticks\":\"\"}}],\"parcoords\":[{\"line\":{\"colorbar\":{\"outlinewidth\":0.0,\"ticks\":\"\"}}}],\"pie\":[{\"automargin\":true}],\"scatter\":[{\"marker\":{\"colorbar\":{\"outlinewidth\":0.0,\"ticks\":\"\"}}}],\"scatter3d\":[{\"marker\":{\"colorbar\":{\"outlinewidth\":0.0,\"ticks\":\"\"}},\"line\":{\"colorbar\":{\"outlinewidth\":0.0,\"ticks\":\"\"}}}],\"scattercarpet\":[{\"marker\":{\"colorbar\":{\"outlinewidth\":0.0,\"ticks\":\"\"}}}],\"scattergeo\":[{\"marker\":{\"colorbar\":{\"outlinewidth\":0.0,\"ticks\":\"\"}}}],\"scattergl\":[{\"marker\":{\"colorbar\":{\"outlinewidth\":0.0,\"ticks\":\"\"}}}],\"scattermapbox\":[{\"marker\":{\"colorbar\":{\"outlinewidth\":0.0,\"ticks\":\"\"}}}],\"scatterpolar\":[{\"marker\":{\"colorbar\":{\"outlinewidth\":0.0,\"ticks\":\"\"}}}],\"scatterpolargl\":[{\"marker\":{\"colorbar\":{\"outlinewidth\":0.0,\"ticks\":\"\"}}}],\"scatterternary\":[{\"marker\":{\"colorbar\":{\"outlinewidth\":0.0,\"ticks\":\"\"}}}],\"surface\":[{\"colorbar\":{\"outlinewidth\":0.0,\"ticks\":\"\"},\"colorscale\":[[0.0,\"#0d0887\"],[0.1111111111111111,\"#46039f\"],[0.2222222222222222,\"#7201a8\"],[0.3333333333333333,\"#9c179e\"],[0.4444444444444444,\"#bd3786\"],[0.5555555555555556,\"#d8576b\"],[0.6666666666666666,\"#ed7953\"],[0.7777777777777778,\"#fb9f3a\"],[0.8888888888888888,\"#fdca26\"],[1.0,\"#f0f921\"]]}],\"table\":[{\"cells\":{\"fill\":{\"color\":\"rgba(235, 240, 248, 1.0)\"},\"line\":{\"color\":\"rgba(255, 255, 255, 1.0)\"}},\"header\":{\"fill\":{\"color\":\"rgba(200, 212, 227, 1.0)\"},\"line\":{\"color\":\"rgba(255, 255, 255, 1.0)\"}}}]}},\"title\":{\"text\":\"Player Market Value Distribution\"}};\n",
       "        var config = {\"responsive\":true};\n",
       "        Plotly.newPlot('f19f26db-ea0a-4f7d-bd38-f06814b1afb8', data, layout, config);\n",
       "    });\n",
       "};\n",
       "if ((typeof(requirejs) !==  typeof(Function)) || (typeof(requirejs.config) !== typeof(Function))) {\n",
       "    var script = document.createElement(\"script\");\n",
       "    script.setAttribute(\"charset\", \"utf-8\");\n",
       "    script.setAttribute(\"src\", \"https://cdnjs.cloudflare.com/ajax/libs/require.js/2.3.6/require.min.js\");\n",
       "    script.onload = function(){\n",
       "        renderPlotly_f19f26dbea0a4f7dbd38f06814b1afb8();\n",
       "    };\n",
       "    document.getElementsByTagName(\"head\")[0].appendChild(script);\n",
       "}\n",
       "else {\n",
       "    renderPlotly_f19f26dbea0a4f7dbd38f06814b1afb8();\n",
       "}\n",
       "</script></div>"
      ]
     },
     "metadata": {},
     "output_type": "display_data"
    }
   ],
   "source": [
    "open Plotly.NET\n",
    "\n",
    "Chart.BoxPlot(Y = marketValues)\n",
    "    |> Chart.withTitle \"Player Market Value Distribution\"\n",
    "    |> Chart.withTraceInfo \"Market Value\"\n",
    "    |> Chart.withSize(600,800) "
   ]
  },
  {
   "cell_type": "code",
   "execution_count": 14,
   "metadata": {
    "dotnet_interactive": {
     "language": "fsharp"
    },
    "polyglot_notebook": {
     "kernelName": "fsharp"
    },
    "vscode": {
     "languageId": "polyglot-notebook"
    }
   },
   "outputs": [
    {
     "data": {
      "text/html": [
       "<div><div id=\"9268795b-8ee8-4abb-97b3-7950658ce0cf\"><!-- Plotly chart will be drawn inside this DIV --></div><script type=\"text/javascript\">\n",
       "var renderPlotly_9268795b8ee84abb97b37950658ce0cf = function() {\n",
       "    var fsharpPlotlyRequire = requirejs.config({context:'fsharp-plotly',paths:{plotly:'https://cdn.plot.ly/plotly-2.27.1.min'}}) || require;\n",
       "    fsharpPlotlyRequire(['plotly'], function(Plotly) {\n",
       "        var data = [{\"type\":\"box\",\"x\":[1000000.0,600000.0,250000.0,1200000.0,500000.0,1000000.0,1000000.0,1500000.0,2500000.0,1000000.0,1000000.0,1000000.0,400000.0,1000000.0,3500000.0,11000000.0,6000000.0,2500000.0,10000000.0,1000000.0,8000000.0,32000000.0,1800000.0,8000000.0,900000.0,14000000.0,7000000.0,10000000.0,10000000.0,7000000.0,13000000.0,20000000.0,10000000.0,65000000.0,50000000.0,400000.0,32000000.0,1500000.0,2800000.0,13000000.0,15000000.0,15000000.0,12000000.0,1000000.0,2000000.0,1000000.0,7000000.0,7000000.0,5000000.0,30000000.0,20000000.0,35000000.0,1500000.0,10000000.0,2500000.0,10000000.0,22000000.0,2500000.0,1000000.0,3500000.0,20000000.0,12000000.0,15000000.0,3000000.0,5000000.0,28000000.0,5000000.0,10000000.0,13000000.0,30000000.0,17000000.0,16000000.0,35000000.0,16000000.0,22000000.0,22000000.0,42000000.0,10000000.0,30000000.0,1800000.0,25000000.0,30000000.0,8000000.0,70000000.0,50000000.0,10000000.0,10000000.0,75000000.0,10000000.0,3000000.0,35000000.0,20000000.0,25000000.0,50000000.0,22000000.0,3000000.0,35000000.0,25000000.0,28000000.0,25000000.0,25000000.0,7000000.0,85000000.0,12000000.0,32000000.0,35000000.0,3000000.0,9000000.0,7000000.0,35000000.0,17000000.0,2500000.0,4000000.0,18000000.0,65000000.0,22000000.0,17000000.0,15000000.0,1000000.0,16000000.0,70000000.0,12000000.0,15000000.0,65000000.0,18000000.0,17000000.0,10000000.0,11000000.0,50000000.0,3500000.0,38000000.0,17000000.0,65000000.0,8000000.0,18000000.0,38000000.0,35000000.0,45000000.0,70000000.0,12000000.0,4500000.0,4500000.0,18000000.0,10000000.0,45000000.0,16000000.0,40000000.0,55000000.0,40000000.0,13000000.0,15000000.0,10000000.0,15000000.0,12000000.0,75000000.0,12000000.0,30000000.0,1800000.0,16000000.0,12000000.0,50000000.0,17000000.0,45000000.0,28000000.0,25000000.0,10000000.0,48000000.0,18000000.0,35000000.0,25000000.0,25000000.0,2000000.0,20000000.0,20000000.0,18000000.0,7000000.0,35000000.0,30000000.0,11000000.0,22000000.0,15000000.0,25000000.0,35000000.0,30000000.0,13000000.0,35000000.0,20000000.0,40000000.0,6000000.0,30000000.0,2000000.0,20000000.0,20000000.0,20000000.0,22000000.0,2500000.0,18000000.0,65000000.0,11000000.0,12000000.0,7000000.0,3000000.0,10000000.0,13000000.0],\"text\":[\"Abel Sauer\",\"Nelson Bednar\",\"Moses Mitchell\",\"Julius Skiles\",\"Dewey Luettgen\",\"Alonzo Harber\",\"Wm Kreiger\",\"Clark Casper\",\"Wilbert Medhurst\",\"Josh Welch\",\"Corey Kohler\",\"Gerardo Kutch\",\"Earnest Lynch\",\"Rex Treutel\",\"Ben Stracke\",\"Theodore Gaylord\",\"Brandon Heller\",\"Gregory Ernser\",\"Danny Effertz\",\"George Carroll\",\"Omar Gusikowski\",\"Max Bashirian\",\"Isaac Jenkins\",\"Cory Wilderman\",\"Pete Dach\",\"Stuart O'Reilly\",\"Milton Roob\",\"Leo Wiza\",\"Guadalupe Kutch\",\"Eddie Funk\",\"Floyd Johnston\",\"Alan O'Reilly\",\"Edmund Collier\",\"Hector Gottlieb\",\"Caleb Stark\",\"Loren Collins\",\"Rolando Parisian\",\"Timothy Konopelski\",\"Darnell Cummings\",\"Edmund Tremblay\",\"Ronald O'Kon\",\"Randall Morar\",\"Elias Oberbrunner\",\"Francis Volkman\",\"Patrick Kshlerin\",\"Hector Powlowski\",\"Roderick Renner\",\"Glen Mraz\",\"Tom Frami\",\"Ronnie Schoen\",\"Reginald Koch\",\"Guillermo Howell\",\"Patrick Collins\",\"Zachary Ortiz\",\"Horace Tromp\",\"Greg Larson\",\"Roberto Langworth\",\"Sammy Runte\",\"Stephen Medhurst\",\"Ruben Dibbert\",\"Lester Borer\",\"Pat Brown\",\"Wilbur Romaguera\",\"Floyd Blanda\",\"Rolando Rolfson\",\"Ernest Cummings\",\"Max Breitenberg\",\"Garrett Reinger\",\"Harvey Herzog\",\"Bobby Jacobson\",\"Greg Morar\",\"Jan Hamill\",\"Roberto Reichel\",\"Scott Runolfsdottir\",\"Timothy Stanton\",\"Ivan Hilpert\",\"Frederick Waters\",\"Roger Jacobs\",\"Brandon Cremin\",\"Moses Torp\",\"Roman O'Keefe\",\"Cornelius Hartmann\",\"Douglas Howe\",\"Sidney Morissette\",\"Oliver Tremblay\",\"Sherman Roberts\",\"Homer Dare\",\"Tyler Schmidt\",\"Lawrence Cummings\",\"Bryan Hansen\",\"Edgar Homenick\",\"Leonard Hagenes\",\"Ismael Zemlak\",\"Evan Veum\",\"Wade Effertz\",\"Mack Kerluke\",\"Ruben Fahey\",\"Hector Strosin\",\"Damon Cormier\",\"Darrel Ortiz\",\"Jeff Breitenberg\",\"Dwayne Herzog\",\"Sheldon McLaughlin\",\"Damon Huels\",\"Virgil Krajcik\",\"Darrin Kutch\",\"Forrest Hermiston\",\"Marshall Windler\",\"Kent Kemmer\",\"Carl Pacocha\",\"Earl McKenzie\",\"Winston Rath\",\"Blake Frami\",\"Domingo Dickinson\",\"Randolph Turner\",\"Rogelio Auer\",\"Bruce Gaylord\",\"Ted Kirlin\",\"Leonard Douglas\",\"Ted Schamberger\",\"Kerry Spencer\",\"George Harvey\",\"Phil Lakin\",\"Peter Bauch\",\"Doyle Armstrong\",\"Eugene Dickens\",\"Erick Sipes\",\"Lewis Hane\",\"Roman Luettgen\",\"Lloyd Hartmann\",\"Garry Davis\",\"Jeremiah Buckridge\",\"Julius Quitzon\",\"Oliver Windler\",\"Claude Schiller\",\"Colin Cormier\",\"Stanley Parker\",\"Jason Becker\",\"Homer Goyette\",\"Timmy Bayer\",\"Kenny Herzog\",\"Bennie Pfannerstill\",\"Jordan Kilback\",\"Elias Pouros\",\"Clint Fahey\",\"Clarence Zemlak\",\"Allan Langworth\",\"Neil Rutherford\",\"Bryant Pollich\",\"Darrell Haley\",\"Robin Blanda\",\"Edmond Wolff\",\"Rudolph Wolff\",\"Reginald Farrell\",\"Garry Metz\",\"Neal Gibson\",\"Juan Flatley\",\"Lester Morar\",\"Horace Prohaska\",\"Willie Bernhard\",\"Freddie Koch\",\"Ramiro Ullrich\",\"Milton Orn\",\"Theodore Jenkins\",\"Lloyd Schuppe\",\"Doyle Cassin\",\"Jonathon Pacocha\",\"Lloyd Dietrich\",\"Mike Hackett\",\"Christopher Kunde\",\"Stuart Lindgren\",\"Ignacio Goodwin\",\"Wesley Morar\",\"Ron Carter\",\"Ben Hansen\",\"Tim Cassin\",\"Hector Bayer\",\"Al Padberg\",\"Nick Conroy\",\"Rodney Will\",\"Nick Muller\",\"Clayton Schmidt\",\"Dean Waters\",\"Harold MacGyver\",\"Israel Deckow\",\"Eugene Fahey\",\"Brett Torp\",\"Leo Lesch\",\"Clint Schaefer\",\"Darryl Leffler\",\"Ramiro Rippin\",\"Justin Stark\",\"Richard Bauch\",\"Brendan Bins\",\"Hector Kuphal\",\"Charlie MacGyver\",\"Clay Baumbach\",\"Zachary Mayert\",\"Nick Welch\",\"Lance Lang\",\"Elias Murray\",\"Marco Johnston\",\"Samuel Goodwin\",\"Jackie Jones\"],\"marker\":{},\"line\":{},\"name\":\"Market Value\"}];\n",
       "        var layout = {\"width\":500,\"height\":800,\"template\":{\"layout\":{\"title\":{\"x\":0.05},\"font\":{\"color\":\"rgba(42, 63, 95, 1.0)\"},\"paper_bgcolor\":\"rgba(255, 255, 255, 1.0)\",\"plot_bgcolor\":\"rgba(229, 236, 246, 1.0)\",\"autotypenumbers\":\"strict\",\"colorscale\":{\"diverging\":[[0.0,\"#8e0152\"],[0.1,\"#c51b7d\"],[0.2,\"#de77ae\"],[0.3,\"#f1b6da\"],[0.4,\"#fde0ef\"],[0.5,\"#f7f7f7\"],[0.6,\"#e6f5d0\"],[0.7,\"#b8e186\"],[0.8,\"#7fbc41\"],[0.9,\"#4d9221\"],[1.0,\"#276419\"]],\"sequential\":[[0.0,\"#0d0887\"],[0.1111111111111111,\"#46039f\"],[0.2222222222222222,\"#7201a8\"],[0.3333333333333333,\"#9c179e\"],[0.4444444444444444,\"#bd3786\"],[0.5555555555555556,\"#d8576b\"],[0.6666666666666666,\"#ed7953\"],[0.7777777777777778,\"#fb9f3a\"],[0.8888888888888888,\"#fdca26\"],[1.0,\"#f0f921\"]],\"sequentialminus\":[[0.0,\"#0d0887\"],[0.1111111111111111,\"#46039f\"],[0.2222222222222222,\"#7201a8\"],[0.3333333333333333,\"#9c179e\"],[0.4444444444444444,\"#bd3786\"],[0.5555555555555556,\"#d8576b\"],[0.6666666666666666,\"#ed7953\"],[0.7777777777777778,\"#fb9f3a\"],[0.8888888888888888,\"#fdca26\"],[1.0,\"#f0f921\"]]},\"hovermode\":\"closest\",\"hoverlabel\":{\"align\":\"left\"},\"coloraxis\":{\"colorbar\":{\"outlinewidth\":0.0,\"ticks\":\"\"}},\"geo\":{\"showland\":true,\"landcolor\":\"rgba(229, 236, 246, 1.0)\",\"showlakes\":true,\"lakecolor\":\"rgba(255, 255, 255, 1.0)\",\"subunitcolor\":\"rgba(255, 255, 255, 1.0)\",\"bgcolor\":\"rgba(255, 255, 255, 1.0)\"},\"mapbox\":{\"style\":\"light\"},\"polar\":{\"bgcolor\":\"rgba(229, 236, 246, 1.0)\",\"radialaxis\":{\"linecolor\":\"rgba(255, 255, 255, 1.0)\",\"gridcolor\":\"rgba(255, 255, 255, 1.0)\",\"ticks\":\"\"},\"angularaxis\":{\"linecolor\":\"rgba(255, 255, 255, 1.0)\",\"gridcolor\":\"rgba(255, 255, 255, 1.0)\",\"ticks\":\"\"}},\"scene\":{\"xaxis\":{\"ticks\":\"\",\"linecolor\":\"rgba(255, 255, 255, 1.0)\",\"gridcolor\":\"rgba(255, 255, 255, 1.0)\",\"gridwidth\":2.0,\"zerolinecolor\":\"rgba(255, 255, 255, 1.0)\",\"backgroundcolor\":\"rgba(229, 236, 246, 1.0)\",\"showbackground\":true},\"yaxis\":{\"ticks\":\"\",\"linecolor\":\"rgba(255, 255, 255, 1.0)\",\"gridcolor\":\"rgba(255, 255, 255, 1.0)\",\"gridwidth\":2.0,\"zerolinecolor\":\"rgba(255, 255, 255, 1.0)\",\"backgroundcolor\":\"rgba(229, 236, 246, 1.0)\",\"showbackground\":true},\"zaxis\":{\"ticks\":\"\",\"linecolor\":\"rgba(255, 255, 255, 1.0)\",\"gridcolor\":\"rgba(255, 255, 255, 1.0)\",\"gridwidth\":2.0,\"zerolinecolor\":\"rgba(255, 255, 255, 1.0)\",\"backgroundcolor\":\"rgba(229, 236, 246, 1.0)\",\"showbackground\":true}},\"ternary\":{\"aaxis\":{\"ticks\":\"\",\"linecolor\":\"rgba(255, 255, 255, 1.0)\",\"gridcolor\":\"rgba(255, 255, 255, 1.0)\"},\"baxis\":{\"ticks\":\"\",\"linecolor\":\"rgba(255, 255, 255, 1.0)\",\"gridcolor\":\"rgba(255, 255, 255, 1.0)\"},\"caxis\":{\"ticks\":\"\",\"linecolor\":\"rgba(255, 255, 255, 1.0)\",\"gridcolor\":\"rgba(255, 255, 255, 1.0)\"},\"bgcolor\":\"rgba(229, 236, 246, 1.0)\"},\"xaxis\":{\"title\":{\"standoff\":15},\"ticks\":\"\",\"automargin\":\"height+width+left+right+top+bottom\",\"linecolor\":\"rgba(255, 255, 255, 1.0)\",\"gridcolor\":\"rgba(255, 255, 255, 1.0)\",\"zerolinecolor\":\"rgba(255, 255, 255, 1.0)\",\"zerolinewidth\":2.0},\"yaxis\":{\"title\":{\"standoff\":15},\"ticks\":\"\",\"automargin\":\"height+width+left+right+top+bottom\",\"linecolor\":\"rgba(255, 255, 255, 1.0)\",\"gridcolor\":\"rgba(255, 255, 255, 1.0)\",\"zerolinecolor\":\"rgba(255, 255, 255, 1.0)\",\"zerolinewidth\":2.0},\"annotationdefaults\":{\"arrowcolor\":\"#2a3f5f\",\"arrowhead\":0,\"arrowwidth\":1},\"shapedefaults\":{\"line\":{\"color\":\"rgba(42, 63, 95, 1.0)\"}},\"colorway\":[\"rgba(99, 110, 250, 1.0)\",\"rgba(239, 85, 59, 1.0)\",\"rgba(0, 204, 150, 1.0)\",\"rgba(171, 99, 250, 1.0)\",\"rgba(255, 161, 90, 1.0)\",\"rgba(25, 211, 243, 1.0)\",\"rgba(255, 102, 146, 1.0)\",\"rgba(182, 232, 128, 1.0)\",\"rgba(255, 151, 255, 1.0)\",\"rgba(254, 203, 82, 1.0)\"]},\"data\":{\"bar\":[{\"marker\":{\"line\":{\"color\":\"rgba(229, 236, 246, 1.0)\",\"width\":0.5},\"pattern\":{\"fillmode\":\"overlay\",\"size\":10,\"solidity\":0.2}},\"error_x\":{\"color\":\"rgba(42, 63, 95, 1.0)\"},\"error_y\":{\"color\":\"rgba(42, 63, 95, 1.0)\"}}],\"barpolar\":[{\"marker\":{\"line\":{\"color\":\"rgba(229, 236, 246, 1.0)\",\"width\":0.5},\"pattern\":{\"fillmode\":\"overlay\",\"size\":10,\"solidity\":0.2}}}],\"carpet\":[{\"aaxis\":{\"linecolor\":\"rgba(255, 255, 255, 1.0)\",\"gridcolor\":\"rgba(255, 255, 255, 1.0)\",\"endlinecolor\":\"rgba(42, 63, 95, 1.0)\",\"minorgridcolor\":\"rgba(255, 255, 255, 1.0)\",\"startlinecolor\":\"rgba(42, 63, 95, 1.0)\"},\"baxis\":{\"linecolor\":\"rgba(255, 255, 255, 1.0)\",\"gridcolor\":\"rgba(255, 255, 255, 1.0)\",\"endlinecolor\":\"rgba(42, 63, 95, 1.0)\",\"minorgridcolor\":\"rgba(255, 255, 255, 1.0)\",\"startlinecolor\":\"rgba(42, 63, 95, 1.0)\"}}],\"choropleth\":[{\"colorbar\":{\"outlinewidth\":0.0,\"ticks\":\"\"},\"colorscale\":[[0.0,\"#0d0887\"],[0.1111111111111111,\"#46039f\"],[0.2222222222222222,\"#7201a8\"],[0.3333333333333333,\"#9c179e\"],[0.4444444444444444,\"#bd3786\"],[0.5555555555555556,\"#d8576b\"],[0.6666666666666666,\"#ed7953\"],[0.7777777777777778,\"#fb9f3a\"],[0.8888888888888888,\"#fdca26\"],[1.0,\"#f0f921\"]]}],\"contour\":[{\"colorbar\":{\"outlinewidth\":0.0,\"ticks\":\"\"},\"colorscale\":[[0.0,\"#0d0887\"],[0.1111111111111111,\"#46039f\"],[0.2222222222222222,\"#7201a8\"],[0.3333333333333333,\"#9c179e\"],[0.4444444444444444,\"#bd3786\"],[0.5555555555555556,\"#d8576b\"],[0.6666666666666666,\"#ed7953\"],[0.7777777777777778,\"#fb9f3a\"],[0.8888888888888888,\"#fdca26\"],[1.0,\"#f0f921\"]]}],\"contourcarpet\":[{\"colorbar\":{\"outlinewidth\":0.0,\"ticks\":\"\"}}],\"heatmap\":[{\"colorbar\":{\"outlinewidth\":0.0,\"ticks\":\"\"},\"colorscale\":[[0.0,\"#0d0887\"],[0.1111111111111111,\"#46039f\"],[0.2222222222222222,\"#7201a8\"],[0.3333333333333333,\"#9c179e\"],[0.4444444444444444,\"#bd3786\"],[0.5555555555555556,\"#d8576b\"],[0.6666666666666666,\"#ed7953\"],[0.7777777777777778,\"#fb9f3a\"],[0.8888888888888888,\"#fdca26\"],[1.0,\"#f0f921\"]]}],\"heatmapgl\":[{\"colorbar\":{\"outlinewidth\":0.0,\"ticks\":\"\"},\"colorscale\":[[0.0,\"#0d0887\"],[0.1111111111111111,\"#46039f\"],[0.2222222222222222,\"#7201a8\"],[0.3333333333333333,\"#9c179e\"],[0.4444444444444444,\"#bd3786\"],[0.5555555555555556,\"#d8576b\"],[0.6666666666666666,\"#ed7953\"],[0.7777777777777778,\"#fb9f3a\"],[0.8888888888888888,\"#fdca26\"],[1.0,\"#f0f921\"]]}],\"histogram\":[{\"marker\":{\"pattern\":{\"fillmode\":\"overlay\",\"size\":10,\"solidity\":0.2}}}],\"histogram2d\":[{\"colorbar\":{\"outlinewidth\":0.0,\"ticks\":\"\"},\"colorscale\":[[0.0,\"#0d0887\"],[0.1111111111111111,\"#46039f\"],[0.2222222222222222,\"#7201a8\"],[0.3333333333333333,\"#9c179e\"],[0.4444444444444444,\"#bd3786\"],[0.5555555555555556,\"#d8576b\"],[0.6666666666666666,\"#ed7953\"],[0.7777777777777778,\"#fb9f3a\"],[0.8888888888888888,\"#fdca26\"],[1.0,\"#f0f921\"]]}],\"histogram2dcontour\":[{\"colorbar\":{\"outlinewidth\":0.0,\"ticks\":\"\"},\"colorscale\":[[0.0,\"#0d0887\"],[0.1111111111111111,\"#46039f\"],[0.2222222222222222,\"#7201a8\"],[0.3333333333333333,\"#9c179e\"],[0.4444444444444444,\"#bd3786\"],[0.5555555555555556,\"#d8576b\"],[0.6666666666666666,\"#ed7953\"],[0.7777777777777778,\"#fb9f3a\"],[0.8888888888888888,\"#fdca26\"],[1.0,\"#f0f921\"]]}],\"mesh3d\":[{\"colorbar\":{\"outlinewidth\":0.0,\"ticks\":\"\"}}],\"parcoords\":[{\"line\":{\"colorbar\":{\"outlinewidth\":0.0,\"ticks\":\"\"}}}],\"pie\":[{\"automargin\":true}],\"scatter\":[{\"marker\":{\"colorbar\":{\"outlinewidth\":0.0,\"ticks\":\"\"}}}],\"scatter3d\":[{\"marker\":{\"colorbar\":{\"outlinewidth\":0.0,\"ticks\":\"\"}},\"line\":{\"colorbar\":{\"outlinewidth\":0.0,\"ticks\":\"\"}}}],\"scattercarpet\":[{\"marker\":{\"colorbar\":{\"outlinewidth\":0.0,\"ticks\":\"\"}}}],\"scattergeo\":[{\"marker\":{\"colorbar\":{\"outlinewidth\":0.0,\"ticks\":\"\"}}}],\"scattergl\":[{\"marker\":{\"colorbar\":{\"outlinewidth\":0.0,\"ticks\":\"\"}}}],\"scattermapbox\":[{\"marker\":{\"colorbar\":{\"outlinewidth\":0.0,\"ticks\":\"\"}}}],\"scatterpolar\":[{\"marker\":{\"colorbar\":{\"outlinewidth\":0.0,\"ticks\":\"\"}}}],\"scatterpolargl\":[{\"marker\":{\"colorbar\":{\"outlinewidth\":0.0,\"ticks\":\"\"}}}],\"scatterternary\":[{\"marker\":{\"colorbar\":{\"outlinewidth\":0.0,\"ticks\":\"\"}}}],\"surface\":[{\"colorbar\":{\"outlinewidth\":0.0,\"ticks\":\"\"},\"colorscale\":[[0.0,\"#0d0887\"],[0.1111111111111111,\"#46039f\"],[0.2222222222222222,\"#7201a8\"],[0.3333333333333333,\"#9c179e\"],[0.4444444444444444,\"#bd3786\"],[0.5555555555555556,\"#d8576b\"],[0.6666666666666666,\"#ed7953\"],[0.7777777777777778,\"#fb9f3a\"],[0.8888888888888888,\"#fdca26\"],[1.0,\"#f0f921\"]]}],\"table\":[{\"cells\":{\"fill\":{\"color\":\"rgba(235, 240, 248, 1.0)\"},\"line\":{\"color\":\"rgba(255, 255, 255, 1.0)\"}},\"header\":{\"fill\":{\"color\":\"rgba(200, 212, 227, 1.0)\"},\"line\":{\"color\":\"rgba(255, 255, 255, 1.0)\"}}}]}},\"title\":{\"text\":\"Player Market Value Distribution\"}};\n",
       "        var config = {\"responsive\":true};\n",
       "        Plotly.newPlot('9268795b-8ee8-4abb-97b3-7950658ce0cf', data, layout, config);\n",
       "    });\n",
       "};\n",
       "if ((typeof(requirejs) !==  typeof(Function)) || (typeof(requirejs.config) !== typeof(Function))) {\n",
       "    var script = document.createElement(\"script\");\n",
       "    script.setAttribute(\"charset\", \"utf-8\");\n",
       "    script.setAttribute(\"src\", \"https://cdnjs.cloudflare.com/ajax/libs/require.js/2.3.6/require.min.js\");\n",
       "    script.onload = function(){\n",
       "        renderPlotly_9268795b8ee84abb97b37950658ce0cf();\n",
       "    };\n",
       "    document.getElementsByTagName(\"head\")[0].appendChild(script);\n",
       "}\n",
       "else {\n",
       "    renderPlotly_9268795b8ee84abb97b37950658ce0cf();\n",
       "}\n",
       "</script></div>"
      ]
     },
     "metadata": {},
     "output_type": "display_data"
    }
   ],
   "source": [
    "Chart.BoxPlot(X = marketValues, MultiText=playerNames)\n",
    "    |> Chart.withTitle \"Player Market Value Distribution\"\n",
    "    |> Chart.withTraceInfo \"Market Value\"\n",
    "    |> Chart.withSize(500,800)"
   ]
  },
  {
   "cell_type": "code",
   "execution_count": 18,
   "metadata": {
    "dotnet_interactive": {
     "language": "fsharp"
    },
    "polyglot_notebook": {
     "kernelName": "fsharp"
    },
    "vscode": {
     "languageId": "polyglot-notebook"
    }
   },
   "outputs": [
    {
     "data": {
      "text/html": [
       "<div><div id=\"9ae2cf3e-900d-477e-acd7-7e5f129f9f61\"><!-- Plotly chart will be drawn inside this DIV --></div><script type=\"text/javascript\">\n",
       "var renderPlotly_9ae2cf3e900d477eacd77e5f129f9f61 = function() {\n",
       "    var fsharpPlotlyRequire = requirejs.config({context:'fsharp-plotly',paths:{plotly:'https://cdn.plot.ly/plotly-2.27.1.min'}}) || require;\n",
       "    fsharpPlotlyRequire(['plotly'], function(Plotly) {\n",
       "        var data = [{\"type\":\"box\",\"x\":[1000000.0,600000.0,250000.0,1200000.0,500000.0,1000000.0,1000000.0,1500000.0,2500000.0,1000000.0,1000000.0,1000000.0,400000.0,1000000.0,3500000.0,11000000.0,6000000.0,2500000.0,10000000.0,1000000.0,8000000.0,32000000.0,1800000.0,8000000.0,900000.0,14000000.0,7000000.0,10000000.0,10000000.0,7000000.0,13000000.0,20000000.0,10000000.0,65000000.0,50000000.0,400000.0,32000000.0,1500000.0,2800000.0,13000000.0,15000000.0,15000000.0,12000000.0,1000000.0,2000000.0,1000000.0,7000000.0,7000000.0,5000000.0,30000000.0,20000000.0,35000000.0,1500000.0,10000000.0,2500000.0,10000000.0,22000000.0,2500000.0,1000000.0,3500000.0,20000000.0,12000000.0,15000000.0,3000000.0,5000000.0,28000000.0,5000000.0,10000000.0,13000000.0,30000000.0,17000000.0,16000000.0,35000000.0,16000000.0,22000000.0,22000000.0,42000000.0,10000000.0,30000000.0,1800000.0,25000000.0,30000000.0,8000000.0,70000000.0,50000000.0,10000000.0,10000000.0,75000000.0,10000000.0,3000000.0,35000000.0,20000000.0,25000000.0,50000000.0,22000000.0,3000000.0,35000000.0,25000000.0,28000000.0,25000000.0,25000000.0,7000000.0,85000000.0,12000000.0,32000000.0,35000000.0,3000000.0,9000000.0,7000000.0,35000000.0,17000000.0,2500000.0,4000000.0,18000000.0,65000000.0,22000000.0,17000000.0,15000000.0,1000000.0,16000000.0,70000000.0,12000000.0,15000000.0,65000000.0,18000000.0,17000000.0,10000000.0,11000000.0,50000000.0,3500000.0,38000000.0,17000000.0,65000000.0,8000000.0,18000000.0,38000000.0,35000000.0,45000000.0,70000000.0,12000000.0,4500000.0,4500000.0,18000000.0,10000000.0,45000000.0,16000000.0,40000000.0,55000000.0,40000000.0,13000000.0,15000000.0,10000000.0,15000000.0,12000000.0,75000000.0,12000000.0,30000000.0,1800000.0,16000000.0,12000000.0,50000000.0,17000000.0,45000000.0,28000000.0,25000000.0,10000000.0,48000000.0,18000000.0,35000000.0,25000000.0,25000000.0,2000000.0,20000000.0,20000000.0,18000000.0,7000000.0,35000000.0,30000000.0,11000000.0,22000000.0,15000000.0,25000000.0,35000000.0,30000000.0,13000000.0,35000000.0,20000000.0,40000000.0,6000000.0,30000000.0,2000000.0,20000000.0,20000000.0,20000000.0,22000000.0,2500000.0,18000000.0,65000000.0,11000000.0,12000000.0,7000000.0,3000000.0,10000000.0,13000000.0],\"text\":[\"Abel Sauer\",\"Nelson Bednar\",\"Moses Mitchell\",\"Julius Skiles\",\"Dewey Luettgen\",\"Alonzo Harber\",\"Wm Kreiger\",\"Clark Casper\",\"Wilbert Medhurst\",\"Josh Welch\",\"Corey Kohler\",\"Gerardo Kutch\",\"Earnest Lynch\",\"Rex Treutel\",\"Ben Stracke\",\"Theodore Gaylord\",\"Brandon Heller\",\"Gregory Ernser\",\"Danny Effertz\",\"George Carroll\",\"Omar Gusikowski\",\"Max Bashirian\",\"Isaac Jenkins\",\"Cory Wilderman\",\"Pete Dach\",\"Stuart O'Reilly\",\"Milton Roob\",\"Leo Wiza\",\"Guadalupe Kutch\",\"Eddie Funk\",\"Floyd Johnston\",\"Alan O'Reilly\",\"Edmund Collier\",\"Hector Gottlieb\",\"Caleb Stark\",\"Loren Collins\",\"Rolando Parisian\",\"Timothy Konopelski\",\"Darnell Cummings\",\"Edmund Tremblay\",\"Ronald O'Kon\",\"Randall Morar\",\"Elias Oberbrunner\",\"Francis Volkman\",\"Patrick Kshlerin\",\"Hector Powlowski\",\"Roderick Renner\",\"Glen Mraz\",\"Tom Frami\",\"Ronnie Schoen\",\"Reginald Koch\",\"Guillermo Howell\",\"Patrick Collins\",\"Zachary Ortiz\",\"Horace Tromp\",\"Greg Larson\",\"Roberto Langworth\",\"Sammy Runte\",\"Stephen Medhurst\",\"Ruben Dibbert\",\"Lester Borer\",\"Pat Brown\",\"Wilbur Romaguera\",\"Floyd Blanda\",\"Rolando Rolfson\",\"Ernest Cummings\",\"Max Breitenberg\",\"Garrett Reinger\",\"Harvey Herzog\",\"Bobby Jacobson\",\"Greg Morar\",\"Jan Hamill\",\"Roberto Reichel\",\"Scott Runolfsdottir\",\"Timothy Stanton\",\"Ivan Hilpert\",\"Frederick Waters\",\"Roger Jacobs\",\"Brandon Cremin\",\"Moses Torp\",\"Roman O'Keefe\",\"Cornelius Hartmann\",\"Douglas Howe\",\"Sidney Morissette\",\"Oliver Tremblay\",\"Sherman Roberts\",\"Homer Dare\",\"Tyler Schmidt\",\"Lawrence Cummings\",\"Bryan Hansen\",\"Edgar Homenick\",\"Leonard Hagenes\",\"Ismael Zemlak\",\"Evan Veum\",\"Wade Effertz\",\"Mack Kerluke\",\"Ruben Fahey\",\"Hector Strosin\",\"Damon Cormier\",\"Darrel Ortiz\",\"Jeff Breitenberg\",\"Dwayne Herzog\",\"Sheldon McLaughlin\",\"Damon Huels\",\"Virgil Krajcik\",\"Darrin Kutch\",\"Forrest Hermiston\",\"Marshall Windler\",\"Kent Kemmer\",\"Carl Pacocha\",\"Earl McKenzie\",\"Winston Rath\",\"Blake Frami\",\"Domingo Dickinson\",\"Randolph Turner\",\"Rogelio Auer\",\"Bruce Gaylord\",\"Ted Kirlin\",\"Leonard Douglas\",\"Ted Schamberger\",\"Kerry Spencer\",\"George Harvey\",\"Phil Lakin\",\"Peter Bauch\",\"Doyle Armstrong\",\"Eugene Dickens\",\"Erick Sipes\",\"Lewis Hane\",\"Roman Luettgen\",\"Lloyd Hartmann\",\"Garry Davis\",\"Jeremiah Buckridge\",\"Julius Quitzon\",\"Oliver Windler\",\"Claude Schiller\",\"Colin Cormier\",\"Stanley Parker\",\"Jason Becker\",\"Homer Goyette\",\"Timmy Bayer\",\"Kenny Herzog\",\"Bennie Pfannerstill\",\"Jordan Kilback\",\"Elias Pouros\",\"Clint Fahey\",\"Clarence Zemlak\",\"Allan Langworth\",\"Neil Rutherford\",\"Bryant Pollich\",\"Darrell Haley\",\"Robin Blanda\",\"Edmond Wolff\",\"Rudolph Wolff\",\"Reginald Farrell\",\"Garry Metz\",\"Neal Gibson\",\"Juan Flatley\",\"Lester Morar\",\"Horace Prohaska\",\"Willie Bernhard\",\"Freddie Koch\",\"Ramiro Ullrich\",\"Milton Orn\",\"Theodore Jenkins\",\"Lloyd Schuppe\",\"Doyle Cassin\",\"Jonathon Pacocha\",\"Lloyd Dietrich\",\"Mike Hackett\",\"Christopher Kunde\",\"Stuart Lindgren\",\"Ignacio Goodwin\",\"Wesley Morar\",\"Ron Carter\",\"Ben Hansen\",\"Tim Cassin\",\"Hector Bayer\",\"Al Padberg\",\"Nick Conroy\",\"Rodney Will\",\"Nick Muller\",\"Clayton Schmidt\",\"Dean Waters\",\"Harold MacGyver\",\"Israel Deckow\",\"Eugene Fahey\",\"Brett Torp\",\"Leo Lesch\",\"Clint Schaefer\",\"Darryl Leffler\",\"Ramiro Rippin\",\"Justin Stark\",\"Richard Bauch\",\"Brendan Bins\",\"Hector Kuphal\",\"Charlie MacGyver\",\"Clay Baumbach\",\"Zachary Mayert\",\"Nick Welch\",\"Lance Lang\",\"Elias Murray\",\"Marco Johnston\",\"Samuel Goodwin\",\"Jackie Jones\"],\"marker\":{},\"line\":{},\"boxpoints\":\"all\",\"jitter\":0.35,\"name\":\"Market Value\"}];\n",
       "        var layout = {\"width\":500,\"height\":350,\"template\":{\"layout\":{\"title\":{\"x\":0.05},\"font\":{\"color\":\"rgba(42, 63, 95, 1.0)\"},\"paper_bgcolor\":\"rgba(255, 255, 255, 1.0)\",\"plot_bgcolor\":\"rgba(229, 236, 246, 1.0)\",\"autotypenumbers\":\"strict\",\"colorscale\":{\"diverging\":[[0.0,\"#8e0152\"],[0.1,\"#c51b7d\"],[0.2,\"#de77ae\"],[0.3,\"#f1b6da\"],[0.4,\"#fde0ef\"],[0.5,\"#f7f7f7\"],[0.6,\"#e6f5d0\"],[0.7,\"#b8e186\"],[0.8,\"#7fbc41\"],[0.9,\"#4d9221\"],[1.0,\"#276419\"]],\"sequential\":[[0.0,\"#0d0887\"],[0.1111111111111111,\"#46039f\"],[0.2222222222222222,\"#7201a8\"],[0.3333333333333333,\"#9c179e\"],[0.4444444444444444,\"#bd3786\"],[0.5555555555555556,\"#d8576b\"],[0.6666666666666666,\"#ed7953\"],[0.7777777777777778,\"#fb9f3a\"],[0.8888888888888888,\"#fdca26\"],[1.0,\"#f0f921\"]],\"sequentialminus\":[[0.0,\"#0d0887\"],[0.1111111111111111,\"#46039f\"],[0.2222222222222222,\"#7201a8\"],[0.3333333333333333,\"#9c179e\"],[0.4444444444444444,\"#bd3786\"],[0.5555555555555556,\"#d8576b\"],[0.6666666666666666,\"#ed7953\"],[0.7777777777777778,\"#fb9f3a\"],[0.8888888888888888,\"#fdca26\"],[1.0,\"#f0f921\"]]},\"hovermode\":\"closest\",\"hoverlabel\":{\"align\":\"left\"},\"coloraxis\":{\"colorbar\":{\"outlinewidth\":0.0,\"ticks\":\"\"}},\"geo\":{\"showland\":true,\"landcolor\":\"rgba(229, 236, 246, 1.0)\",\"showlakes\":true,\"lakecolor\":\"rgba(255, 255, 255, 1.0)\",\"subunitcolor\":\"rgba(255, 255, 255, 1.0)\",\"bgcolor\":\"rgba(255, 255, 255, 1.0)\"},\"mapbox\":{\"style\":\"light\"},\"polar\":{\"bgcolor\":\"rgba(229, 236, 246, 1.0)\",\"radialaxis\":{\"linecolor\":\"rgba(255, 255, 255, 1.0)\",\"gridcolor\":\"rgba(255, 255, 255, 1.0)\",\"ticks\":\"\"},\"angularaxis\":{\"linecolor\":\"rgba(255, 255, 255, 1.0)\",\"gridcolor\":\"rgba(255, 255, 255, 1.0)\",\"ticks\":\"\"}},\"scene\":{\"xaxis\":{\"ticks\":\"\",\"linecolor\":\"rgba(255, 255, 255, 1.0)\",\"gridcolor\":\"rgba(255, 255, 255, 1.0)\",\"gridwidth\":2.0,\"zerolinecolor\":\"rgba(255, 255, 255, 1.0)\",\"backgroundcolor\":\"rgba(229, 236, 246, 1.0)\",\"showbackground\":true},\"yaxis\":{\"ticks\":\"\",\"linecolor\":\"rgba(255, 255, 255, 1.0)\",\"gridcolor\":\"rgba(255, 255, 255, 1.0)\",\"gridwidth\":2.0,\"zerolinecolor\":\"rgba(255, 255, 255, 1.0)\",\"backgroundcolor\":\"rgba(229, 236, 246, 1.0)\",\"showbackground\":true},\"zaxis\":{\"ticks\":\"\",\"linecolor\":\"rgba(255, 255, 255, 1.0)\",\"gridcolor\":\"rgba(255, 255, 255, 1.0)\",\"gridwidth\":2.0,\"zerolinecolor\":\"rgba(255, 255, 255, 1.0)\",\"backgroundcolor\":\"rgba(229, 236, 246, 1.0)\",\"showbackground\":true}},\"ternary\":{\"aaxis\":{\"ticks\":\"\",\"linecolor\":\"rgba(255, 255, 255, 1.0)\",\"gridcolor\":\"rgba(255, 255, 255, 1.0)\"},\"baxis\":{\"ticks\":\"\",\"linecolor\":\"rgba(255, 255, 255, 1.0)\",\"gridcolor\":\"rgba(255, 255, 255, 1.0)\"},\"caxis\":{\"ticks\":\"\",\"linecolor\":\"rgba(255, 255, 255, 1.0)\",\"gridcolor\":\"rgba(255, 255, 255, 1.0)\"},\"bgcolor\":\"rgba(229, 236, 246, 1.0)\"},\"xaxis\":{\"title\":{\"standoff\":15},\"ticks\":\"\",\"automargin\":\"height+width+left+right+top+bottom\",\"linecolor\":\"rgba(255, 255, 255, 1.0)\",\"gridcolor\":\"rgba(255, 255, 255, 1.0)\",\"zerolinecolor\":\"rgba(255, 255, 255, 1.0)\",\"zerolinewidth\":2.0},\"yaxis\":{\"title\":{\"standoff\":15},\"ticks\":\"\",\"automargin\":\"height+width+left+right+top+bottom\",\"linecolor\":\"rgba(255, 255, 255, 1.0)\",\"gridcolor\":\"rgba(255, 255, 255, 1.0)\",\"zerolinecolor\":\"rgba(255, 255, 255, 1.0)\",\"zerolinewidth\":2.0},\"annotationdefaults\":{\"arrowcolor\":\"#2a3f5f\",\"arrowhead\":0,\"arrowwidth\":1},\"shapedefaults\":{\"line\":{\"color\":\"rgba(42, 63, 95, 1.0)\"}},\"colorway\":[\"rgba(99, 110, 250, 1.0)\",\"rgba(239, 85, 59, 1.0)\",\"rgba(0, 204, 150, 1.0)\",\"rgba(171, 99, 250, 1.0)\",\"rgba(255, 161, 90, 1.0)\",\"rgba(25, 211, 243, 1.0)\",\"rgba(255, 102, 146, 1.0)\",\"rgba(182, 232, 128, 1.0)\",\"rgba(255, 151, 255, 1.0)\",\"rgba(254, 203, 82, 1.0)\"]},\"data\":{\"bar\":[{\"marker\":{\"line\":{\"color\":\"rgba(229, 236, 246, 1.0)\",\"width\":0.5},\"pattern\":{\"fillmode\":\"overlay\",\"size\":10,\"solidity\":0.2}},\"error_x\":{\"color\":\"rgba(42, 63, 95, 1.0)\"},\"error_y\":{\"color\":\"rgba(42, 63, 95, 1.0)\"}}],\"barpolar\":[{\"marker\":{\"line\":{\"color\":\"rgba(229, 236, 246, 1.0)\",\"width\":0.5},\"pattern\":{\"fillmode\":\"overlay\",\"size\":10,\"solidity\":0.2}}}],\"carpet\":[{\"aaxis\":{\"linecolor\":\"rgba(255, 255, 255, 1.0)\",\"gridcolor\":\"rgba(255, 255, 255, 1.0)\",\"endlinecolor\":\"rgba(42, 63, 95, 1.0)\",\"minorgridcolor\":\"rgba(255, 255, 255, 1.0)\",\"startlinecolor\":\"rgba(42, 63, 95, 1.0)\"},\"baxis\":{\"linecolor\":\"rgba(255, 255, 255, 1.0)\",\"gridcolor\":\"rgba(255, 255, 255, 1.0)\",\"endlinecolor\":\"rgba(42, 63, 95, 1.0)\",\"minorgridcolor\":\"rgba(255, 255, 255, 1.0)\",\"startlinecolor\":\"rgba(42, 63, 95, 1.0)\"}}],\"choropleth\":[{\"colorbar\":{\"outlinewidth\":0.0,\"ticks\":\"\"},\"colorscale\":[[0.0,\"#0d0887\"],[0.1111111111111111,\"#46039f\"],[0.2222222222222222,\"#7201a8\"],[0.3333333333333333,\"#9c179e\"],[0.4444444444444444,\"#bd3786\"],[0.5555555555555556,\"#d8576b\"],[0.6666666666666666,\"#ed7953\"],[0.7777777777777778,\"#fb9f3a\"],[0.8888888888888888,\"#fdca26\"],[1.0,\"#f0f921\"]]}],\"contour\":[{\"colorbar\":{\"outlinewidth\":0.0,\"ticks\":\"\"},\"colorscale\":[[0.0,\"#0d0887\"],[0.1111111111111111,\"#46039f\"],[0.2222222222222222,\"#7201a8\"],[0.3333333333333333,\"#9c179e\"],[0.4444444444444444,\"#bd3786\"],[0.5555555555555556,\"#d8576b\"],[0.6666666666666666,\"#ed7953\"],[0.7777777777777778,\"#fb9f3a\"],[0.8888888888888888,\"#fdca26\"],[1.0,\"#f0f921\"]]}],\"contourcarpet\":[{\"colorbar\":{\"outlinewidth\":0.0,\"ticks\":\"\"}}],\"heatmap\":[{\"colorbar\":{\"outlinewidth\":0.0,\"ticks\":\"\"},\"colorscale\":[[0.0,\"#0d0887\"],[0.1111111111111111,\"#46039f\"],[0.2222222222222222,\"#7201a8\"],[0.3333333333333333,\"#9c179e\"],[0.4444444444444444,\"#bd3786\"],[0.5555555555555556,\"#d8576b\"],[0.6666666666666666,\"#ed7953\"],[0.7777777777777778,\"#fb9f3a\"],[0.8888888888888888,\"#fdca26\"],[1.0,\"#f0f921\"]]}],\"heatmapgl\":[{\"colorbar\":{\"outlinewidth\":0.0,\"ticks\":\"\"},\"colorscale\":[[0.0,\"#0d0887\"],[0.1111111111111111,\"#46039f\"],[0.2222222222222222,\"#7201a8\"],[0.3333333333333333,\"#9c179e\"],[0.4444444444444444,\"#bd3786\"],[0.5555555555555556,\"#d8576b\"],[0.6666666666666666,\"#ed7953\"],[0.7777777777777778,\"#fb9f3a\"],[0.8888888888888888,\"#fdca26\"],[1.0,\"#f0f921\"]]}],\"histogram\":[{\"marker\":{\"pattern\":{\"fillmode\":\"overlay\",\"size\":10,\"solidity\":0.2}}}],\"histogram2d\":[{\"colorbar\":{\"outlinewidth\":0.0,\"ticks\":\"\"},\"colorscale\":[[0.0,\"#0d0887\"],[0.1111111111111111,\"#46039f\"],[0.2222222222222222,\"#7201a8\"],[0.3333333333333333,\"#9c179e\"],[0.4444444444444444,\"#bd3786\"],[0.5555555555555556,\"#d8576b\"],[0.6666666666666666,\"#ed7953\"],[0.7777777777777778,\"#fb9f3a\"],[0.8888888888888888,\"#fdca26\"],[1.0,\"#f0f921\"]]}],\"histogram2dcontour\":[{\"colorbar\":{\"outlinewidth\":0.0,\"ticks\":\"\"},\"colorscale\":[[0.0,\"#0d0887\"],[0.1111111111111111,\"#46039f\"],[0.2222222222222222,\"#7201a8\"],[0.3333333333333333,\"#9c179e\"],[0.4444444444444444,\"#bd3786\"],[0.5555555555555556,\"#d8576b\"],[0.6666666666666666,\"#ed7953\"],[0.7777777777777778,\"#fb9f3a\"],[0.8888888888888888,\"#fdca26\"],[1.0,\"#f0f921\"]]}],\"mesh3d\":[{\"colorbar\":{\"outlinewidth\":0.0,\"ticks\":\"\"}}],\"parcoords\":[{\"line\":{\"colorbar\":{\"outlinewidth\":0.0,\"ticks\":\"\"}}}],\"pie\":[{\"automargin\":true}],\"scatter\":[{\"marker\":{\"colorbar\":{\"outlinewidth\":0.0,\"ticks\":\"\"}}}],\"scatter3d\":[{\"marker\":{\"colorbar\":{\"outlinewidth\":0.0,\"ticks\":\"\"}},\"line\":{\"colorbar\":{\"outlinewidth\":0.0,\"ticks\":\"\"}}}],\"scattercarpet\":[{\"marker\":{\"colorbar\":{\"outlinewidth\":0.0,\"ticks\":\"\"}}}],\"scattergeo\":[{\"marker\":{\"colorbar\":{\"outlinewidth\":0.0,\"ticks\":\"\"}}}],\"scattergl\":[{\"marker\":{\"colorbar\":{\"outlinewidth\":0.0,\"ticks\":\"\"}}}],\"scattermapbox\":[{\"marker\":{\"colorbar\":{\"outlinewidth\":0.0,\"ticks\":\"\"}}}],\"scatterpolar\":[{\"marker\":{\"colorbar\":{\"outlinewidth\":0.0,\"ticks\":\"\"}}}],\"scatterpolargl\":[{\"marker\":{\"colorbar\":{\"outlinewidth\":0.0,\"ticks\":\"\"}}}],\"scatterternary\":[{\"marker\":{\"colorbar\":{\"outlinewidth\":0.0,\"ticks\":\"\"}}}],\"surface\":[{\"colorbar\":{\"outlinewidth\":0.0,\"ticks\":\"\"},\"colorscale\":[[0.0,\"#0d0887\"],[0.1111111111111111,\"#46039f\"],[0.2222222222222222,\"#7201a8\"],[0.3333333333333333,\"#9c179e\"],[0.4444444444444444,\"#bd3786\"],[0.5555555555555556,\"#d8576b\"],[0.6666666666666666,\"#ed7953\"],[0.7777777777777778,\"#fb9f3a\"],[0.8888888888888888,\"#fdca26\"],[1.0,\"#f0f921\"]]}],\"table\":[{\"cells\":{\"fill\":{\"color\":\"rgba(235, 240, 248, 1.0)\"},\"line\":{\"color\":\"rgba(255, 255, 255, 1.0)\"}},\"header\":{\"fill\":{\"color\":\"rgba(200, 212, 227, 1.0)\"},\"line\":{\"color\":\"rgba(255, 255, 255, 1.0)\"}}}]}},\"title\":{\"text\":\"Player Market Value Distribution\"}};\n",
       "        var config = {\"responsive\":true};\n",
       "        Plotly.newPlot('9ae2cf3e-900d-477e-acd7-7e5f129f9f61', data, layout, config);\n",
       "    });\n",
       "};\n",
       "if ((typeof(requirejs) !==  typeof(Function)) || (typeof(requirejs.config) !== typeof(Function))) {\n",
       "    var script = document.createElement(\"script\");\n",
       "    script.setAttribute(\"charset\", \"utf-8\");\n",
       "    script.setAttribute(\"src\", \"https://cdnjs.cloudflare.com/ajax/libs/require.js/2.3.6/require.min.js\");\n",
       "    script.onload = function(){\n",
       "        renderPlotly_9ae2cf3e900d477eacd77e5f129f9f61();\n",
       "    };\n",
       "    document.getElementsByTagName(\"head\")[0].appendChild(script);\n",
       "}\n",
       "else {\n",
       "    renderPlotly_9ae2cf3e900d477eacd77e5f129f9f61();\n",
       "}\n",
       "</script></div>"
      ]
     },
     "metadata": {},
     "output_type": "display_data"
    }
   ],
   "source": [
    "Chart.BoxPlot(X = marketValues, BoxPoints = StyleParam.BoxPoints.All, MultiText=playerNames, Jitter=0.35)\n",
    "    |> Chart.withTitle \"Player Market Value Distribution\"\n",
    "    |> Chart.withTraceInfo \"Market Value\"\n",
    "    |> Chart.withSize(500, 350)"
   ]
  },
  {
   "cell_type": "code",
   "execution_count": 19,
   "metadata": {
    "dotnet_interactive": {
     "language": "fsharp"
    },
    "polyglot_notebook": {
     "kernelName": "fsharp"
    },
    "vscode": {
     "languageId": "polyglot-notebook"
    }
   },
   "outputs": [
    {
     "data": {
      "text/html": [
       "<div><div id=\"6c13aa51-7168-43e2-9c29-96b58b897688\"><!-- Plotly chart will be drawn inside this DIV --></div><script type=\"text/javascript\">\n",
       "var renderPlotly_6c13aa51716843e29c2996b58b897688 = function() {\n",
       "    var fsharpPlotlyRequire = requirejs.config({context:'fsharp-plotly',paths:{plotly:'https://cdn.plot.ly/plotly-2.27.1.min'}}) || require;\n",
       "    fsharpPlotlyRequire(['plotly'], function(Plotly) {\n",
       "        var data = [{\"type\":\"violin\",\"x\":[1000000.0,600000.0,250000.0,1200000.0,500000.0,1000000.0,1000000.0,1500000.0,2500000.0,1000000.0,1000000.0,1000000.0,400000.0,1000000.0,3500000.0,11000000.0,6000000.0,2500000.0,10000000.0,1000000.0,8000000.0,32000000.0,1800000.0,8000000.0,900000.0,14000000.0,7000000.0,10000000.0,10000000.0,7000000.0,13000000.0,20000000.0,10000000.0,65000000.0,50000000.0,400000.0,32000000.0,1500000.0,2800000.0,13000000.0,15000000.0,15000000.0,12000000.0,1000000.0,2000000.0,1000000.0,7000000.0,7000000.0,5000000.0,30000000.0,20000000.0,35000000.0,1500000.0,10000000.0,2500000.0,10000000.0,22000000.0,2500000.0,1000000.0,3500000.0,20000000.0,12000000.0,15000000.0,3000000.0,5000000.0,28000000.0,5000000.0,10000000.0,13000000.0,30000000.0,17000000.0,16000000.0,35000000.0,16000000.0,22000000.0,22000000.0,42000000.0,10000000.0,30000000.0,1800000.0,25000000.0,30000000.0,8000000.0,70000000.0,50000000.0,10000000.0,10000000.0,75000000.0,10000000.0,3000000.0,35000000.0,20000000.0,25000000.0,50000000.0,22000000.0,3000000.0,35000000.0,25000000.0,28000000.0,25000000.0,25000000.0,7000000.0,85000000.0,12000000.0,32000000.0,35000000.0,3000000.0,9000000.0,7000000.0,35000000.0,17000000.0,2500000.0,4000000.0,18000000.0,65000000.0,22000000.0,17000000.0,15000000.0,1000000.0,16000000.0,70000000.0,12000000.0,15000000.0,65000000.0,18000000.0,17000000.0,10000000.0,11000000.0,50000000.0,3500000.0,38000000.0,17000000.0,65000000.0,8000000.0,18000000.0,38000000.0,35000000.0,45000000.0,70000000.0,12000000.0,4500000.0,4500000.0,18000000.0,10000000.0,45000000.0,16000000.0,40000000.0,55000000.0,40000000.0,13000000.0,15000000.0,10000000.0,15000000.0,12000000.0,75000000.0,12000000.0,30000000.0,1800000.0,16000000.0,12000000.0,50000000.0,17000000.0,45000000.0,28000000.0,25000000.0,10000000.0,48000000.0,18000000.0,35000000.0,25000000.0,25000000.0,2000000.0,20000000.0,20000000.0,18000000.0,7000000.0,35000000.0,30000000.0,11000000.0,22000000.0,15000000.0,25000000.0,35000000.0,30000000.0,13000000.0,35000000.0,20000000.0,40000000.0,6000000.0,30000000.0,2000000.0,20000000.0,20000000.0,20000000.0,22000000.0,2500000.0,18000000.0,65000000.0,11000000.0,12000000.0,7000000.0,3000000.0,10000000.0,13000000.0],\"marker\":{},\"line\":{},\"box\":{},\"name\":\"Market Value\"}];\n",
       "        var layout = {\"width\":600,\"height\":350,\"template\":{\"layout\":{\"title\":{\"x\":0.05},\"font\":{\"color\":\"rgba(42, 63, 95, 1.0)\"},\"paper_bgcolor\":\"rgba(255, 255, 255, 1.0)\",\"plot_bgcolor\":\"rgba(229, 236, 246, 1.0)\",\"autotypenumbers\":\"strict\",\"colorscale\":{\"diverging\":[[0.0,\"#8e0152\"],[0.1,\"#c51b7d\"],[0.2,\"#de77ae\"],[0.3,\"#f1b6da\"],[0.4,\"#fde0ef\"],[0.5,\"#f7f7f7\"],[0.6,\"#e6f5d0\"],[0.7,\"#b8e186\"],[0.8,\"#7fbc41\"],[0.9,\"#4d9221\"],[1.0,\"#276419\"]],\"sequential\":[[0.0,\"#0d0887\"],[0.1111111111111111,\"#46039f\"],[0.2222222222222222,\"#7201a8\"],[0.3333333333333333,\"#9c179e\"],[0.4444444444444444,\"#bd3786\"],[0.5555555555555556,\"#d8576b\"],[0.6666666666666666,\"#ed7953\"],[0.7777777777777778,\"#fb9f3a\"],[0.8888888888888888,\"#fdca26\"],[1.0,\"#f0f921\"]],\"sequentialminus\":[[0.0,\"#0d0887\"],[0.1111111111111111,\"#46039f\"],[0.2222222222222222,\"#7201a8\"],[0.3333333333333333,\"#9c179e\"],[0.4444444444444444,\"#bd3786\"],[0.5555555555555556,\"#d8576b\"],[0.6666666666666666,\"#ed7953\"],[0.7777777777777778,\"#fb9f3a\"],[0.8888888888888888,\"#fdca26\"],[1.0,\"#f0f921\"]]},\"hovermode\":\"closest\",\"hoverlabel\":{\"align\":\"left\"},\"coloraxis\":{\"colorbar\":{\"outlinewidth\":0.0,\"ticks\":\"\"}},\"geo\":{\"showland\":true,\"landcolor\":\"rgba(229, 236, 246, 1.0)\",\"showlakes\":true,\"lakecolor\":\"rgba(255, 255, 255, 1.0)\",\"subunitcolor\":\"rgba(255, 255, 255, 1.0)\",\"bgcolor\":\"rgba(255, 255, 255, 1.0)\"},\"mapbox\":{\"style\":\"light\"},\"polar\":{\"bgcolor\":\"rgba(229, 236, 246, 1.0)\",\"radialaxis\":{\"linecolor\":\"rgba(255, 255, 255, 1.0)\",\"gridcolor\":\"rgba(255, 255, 255, 1.0)\",\"ticks\":\"\"},\"angularaxis\":{\"linecolor\":\"rgba(255, 255, 255, 1.0)\",\"gridcolor\":\"rgba(255, 255, 255, 1.0)\",\"ticks\":\"\"}},\"scene\":{\"xaxis\":{\"ticks\":\"\",\"linecolor\":\"rgba(255, 255, 255, 1.0)\",\"gridcolor\":\"rgba(255, 255, 255, 1.0)\",\"gridwidth\":2.0,\"zerolinecolor\":\"rgba(255, 255, 255, 1.0)\",\"backgroundcolor\":\"rgba(229, 236, 246, 1.0)\",\"showbackground\":true},\"yaxis\":{\"ticks\":\"\",\"linecolor\":\"rgba(255, 255, 255, 1.0)\",\"gridcolor\":\"rgba(255, 255, 255, 1.0)\",\"gridwidth\":2.0,\"zerolinecolor\":\"rgba(255, 255, 255, 1.0)\",\"backgroundcolor\":\"rgba(229, 236, 246, 1.0)\",\"showbackground\":true},\"zaxis\":{\"ticks\":\"\",\"linecolor\":\"rgba(255, 255, 255, 1.0)\",\"gridcolor\":\"rgba(255, 255, 255, 1.0)\",\"gridwidth\":2.0,\"zerolinecolor\":\"rgba(255, 255, 255, 1.0)\",\"backgroundcolor\":\"rgba(229, 236, 246, 1.0)\",\"showbackground\":true}},\"ternary\":{\"aaxis\":{\"ticks\":\"\",\"linecolor\":\"rgba(255, 255, 255, 1.0)\",\"gridcolor\":\"rgba(255, 255, 255, 1.0)\"},\"baxis\":{\"ticks\":\"\",\"linecolor\":\"rgba(255, 255, 255, 1.0)\",\"gridcolor\":\"rgba(255, 255, 255, 1.0)\"},\"caxis\":{\"ticks\":\"\",\"linecolor\":\"rgba(255, 255, 255, 1.0)\",\"gridcolor\":\"rgba(255, 255, 255, 1.0)\"},\"bgcolor\":\"rgba(229, 236, 246, 1.0)\"},\"xaxis\":{\"title\":{\"standoff\":15},\"ticks\":\"\",\"automargin\":\"height+width+left+right+top+bottom\",\"linecolor\":\"rgba(255, 255, 255, 1.0)\",\"gridcolor\":\"rgba(255, 255, 255, 1.0)\",\"zerolinecolor\":\"rgba(255, 255, 255, 1.0)\",\"zerolinewidth\":2.0},\"yaxis\":{\"title\":{\"standoff\":15},\"ticks\":\"\",\"automargin\":\"height+width+left+right+top+bottom\",\"linecolor\":\"rgba(255, 255, 255, 1.0)\",\"gridcolor\":\"rgba(255, 255, 255, 1.0)\",\"zerolinecolor\":\"rgba(255, 255, 255, 1.0)\",\"zerolinewidth\":2.0},\"annotationdefaults\":{\"arrowcolor\":\"#2a3f5f\",\"arrowhead\":0,\"arrowwidth\":1},\"shapedefaults\":{\"line\":{\"color\":\"rgba(42, 63, 95, 1.0)\"}},\"colorway\":[\"rgba(99, 110, 250, 1.0)\",\"rgba(239, 85, 59, 1.0)\",\"rgba(0, 204, 150, 1.0)\",\"rgba(171, 99, 250, 1.0)\",\"rgba(255, 161, 90, 1.0)\",\"rgba(25, 211, 243, 1.0)\",\"rgba(255, 102, 146, 1.0)\",\"rgba(182, 232, 128, 1.0)\",\"rgba(255, 151, 255, 1.0)\",\"rgba(254, 203, 82, 1.0)\"]},\"data\":{\"bar\":[{\"marker\":{\"line\":{\"color\":\"rgba(229, 236, 246, 1.0)\",\"width\":0.5},\"pattern\":{\"fillmode\":\"overlay\",\"size\":10,\"solidity\":0.2}},\"error_x\":{\"color\":\"rgba(42, 63, 95, 1.0)\"},\"error_y\":{\"color\":\"rgba(42, 63, 95, 1.0)\"}}],\"barpolar\":[{\"marker\":{\"line\":{\"color\":\"rgba(229, 236, 246, 1.0)\",\"width\":0.5},\"pattern\":{\"fillmode\":\"overlay\",\"size\":10,\"solidity\":0.2}}}],\"carpet\":[{\"aaxis\":{\"linecolor\":\"rgba(255, 255, 255, 1.0)\",\"gridcolor\":\"rgba(255, 255, 255, 1.0)\",\"endlinecolor\":\"rgba(42, 63, 95, 1.0)\",\"minorgridcolor\":\"rgba(255, 255, 255, 1.0)\",\"startlinecolor\":\"rgba(42, 63, 95, 1.0)\"},\"baxis\":{\"linecolor\":\"rgba(255, 255, 255, 1.0)\",\"gridcolor\":\"rgba(255, 255, 255, 1.0)\",\"endlinecolor\":\"rgba(42, 63, 95, 1.0)\",\"minorgridcolor\":\"rgba(255, 255, 255, 1.0)\",\"startlinecolor\":\"rgba(42, 63, 95, 1.0)\"}}],\"choropleth\":[{\"colorbar\":{\"outlinewidth\":0.0,\"ticks\":\"\"},\"colorscale\":[[0.0,\"#0d0887\"],[0.1111111111111111,\"#46039f\"],[0.2222222222222222,\"#7201a8\"],[0.3333333333333333,\"#9c179e\"],[0.4444444444444444,\"#bd3786\"],[0.5555555555555556,\"#d8576b\"],[0.6666666666666666,\"#ed7953\"],[0.7777777777777778,\"#fb9f3a\"],[0.8888888888888888,\"#fdca26\"],[1.0,\"#f0f921\"]]}],\"contour\":[{\"colorbar\":{\"outlinewidth\":0.0,\"ticks\":\"\"},\"colorscale\":[[0.0,\"#0d0887\"],[0.1111111111111111,\"#46039f\"],[0.2222222222222222,\"#7201a8\"],[0.3333333333333333,\"#9c179e\"],[0.4444444444444444,\"#bd3786\"],[0.5555555555555556,\"#d8576b\"],[0.6666666666666666,\"#ed7953\"],[0.7777777777777778,\"#fb9f3a\"],[0.8888888888888888,\"#fdca26\"],[1.0,\"#f0f921\"]]}],\"contourcarpet\":[{\"colorbar\":{\"outlinewidth\":0.0,\"ticks\":\"\"}}],\"heatmap\":[{\"colorbar\":{\"outlinewidth\":0.0,\"ticks\":\"\"},\"colorscale\":[[0.0,\"#0d0887\"],[0.1111111111111111,\"#46039f\"],[0.2222222222222222,\"#7201a8\"],[0.3333333333333333,\"#9c179e\"],[0.4444444444444444,\"#bd3786\"],[0.5555555555555556,\"#d8576b\"],[0.6666666666666666,\"#ed7953\"],[0.7777777777777778,\"#fb9f3a\"],[0.8888888888888888,\"#fdca26\"],[1.0,\"#f0f921\"]]}],\"heatmapgl\":[{\"colorbar\":{\"outlinewidth\":0.0,\"ticks\":\"\"},\"colorscale\":[[0.0,\"#0d0887\"],[0.1111111111111111,\"#46039f\"],[0.2222222222222222,\"#7201a8\"],[0.3333333333333333,\"#9c179e\"],[0.4444444444444444,\"#bd3786\"],[0.5555555555555556,\"#d8576b\"],[0.6666666666666666,\"#ed7953\"],[0.7777777777777778,\"#fb9f3a\"],[0.8888888888888888,\"#fdca26\"],[1.0,\"#f0f921\"]]}],\"histogram\":[{\"marker\":{\"pattern\":{\"fillmode\":\"overlay\",\"size\":10,\"solidity\":0.2}}}],\"histogram2d\":[{\"colorbar\":{\"outlinewidth\":0.0,\"ticks\":\"\"},\"colorscale\":[[0.0,\"#0d0887\"],[0.1111111111111111,\"#46039f\"],[0.2222222222222222,\"#7201a8\"],[0.3333333333333333,\"#9c179e\"],[0.4444444444444444,\"#bd3786\"],[0.5555555555555556,\"#d8576b\"],[0.6666666666666666,\"#ed7953\"],[0.7777777777777778,\"#fb9f3a\"],[0.8888888888888888,\"#fdca26\"],[1.0,\"#f0f921\"]]}],\"histogram2dcontour\":[{\"colorbar\":{\"outlinewidth\":0.0,\"ticks\":\"\"},\"colorscale\":[[0.0,\"#0d0887\"],[0.1111111111111111,\"#46039f\"],[0.2222222222222222,\"#7201a8\"],[0.3333333333333333,\"#9c179e\"],[0.4444444444444444,\"#bd3786\"],[0.5555555555555556,\"#d8576b\"],[0.6666666666666666,\"#ed7953\"],[0.7777777777777778,\"#fb9f3a\"],[0.8888888888888888,\"#fdca26\"],[1.0,\"#f0f921\"]]}],\"mesh3d\":[{\"colorbar\":{\"outlinewidth\":0.0,\"ticks\":\"\"}}],\"parcoords\":[{\"line\":{\"colorbar\":{\"outlinewidth\":0.0,\"ticks\":\"\"}}}],\"pie\":[{\"automargin\":true}],\"scatter\":[{\"marker\":{\"colorbar\":{\"outlinewidth\":0.0,\"ticks\":\"\"}}}],\"scatter3d\":[{\"marker\":{\"colorbar\":{\"outlinewidth\":0.0,\"ticks\":\"\"}},\"line\":{\"colorbar\":{\"outlinewidth\":0.0,\"ticks\":\"\"}}}],\"scattercarpet\":[{\"marker\":{\"colorbar\":{\"outlinewidth\":0.0,\"ticks\":\"\"}}}],\"scattergeo\":[{\"marker\":{\"colorbar\":{\"outlinewidth\":0.0,\"ticks\":\"\"}}}],\"scattergl\":[{\"marker\":{\"colorbar\":{\"outlinewidth\":0.0,\"ticks\":\"\"}}}],\"scattermapbox\":[{\"marker\":{\"colorbar\":{\"outlinewidth\":0.0,\"ticks\":\"\"}}}],\"scatterpolar\":[{\"marker\":{\"colorbar\":{\"outlinewidth\":0.0,\"ticks\":\"\"}}}],\"scatterpolargl\":[{\"marker\":{\"colorbar\":{\"outlinewidth\":0.0,\"ticks\":\"\"}}}],\"scatterternary\":[{\"marker\":{\"colorbar\":{\"outlinewidth\":0.0,\"ticks\":\"\"}}}],\"surface\":[{\"colorbar\":{\"outlinewidth\":0.0,\"ticks\":\"\"},\"colorscale\":[[0.0,\"#0d0887\"],[0.1111111111111111,\"#46039f\"],[0.2222222222222222,\"#7201a8\"],[0.3333333333333333,\"#9c179e\"],[0.4444444444444444,\"#bd3786\"],[0.5555555555555556,\"#d8576b\"],[0.6666666666666666,\"#ed7953\"],[0.7777777777777778,\"#fb9f3a\"],[0.8888888888888888,\"#fdca26\"],[1.0,\"#f0f921\"]]}],\"table\":[{\"cells\":{\"fill\":{\"color\":\"rgba(235, 240, 248, 1.0)\"},\"line\":{\"color\":\"rgba(255, 255, 255, 1.0)\"}},\"header\":{\"fill\":{\"color\":\"rgba(200, 212, 227, 1.0)\"},\"line\":{\"color\":\"rgba(255, 255, 255, 1.0)\"}}}]}},\"title\":{\"text\":\"Player Market Value Distribution\"}};\n",
       "        var config = {\"responsive\":true};\n",
       "        Plotly.newPlot('6c13aa51-7168-43e2-9c29-96b58b897688', data, layout, config);\n",
       "    });\n",
       "};\n",
       "if ((typeof(requirejs) !==  typeof(Function)) || (typeof(requirejs.config) !== typeof(Function))) {\n",
       "    var script = document.createElement(\"script\");\n",
       "    script.setAttribute(\"charset\", \"utf-8\");\n",
       "    script.setAttribute(\"src\", \"https://cdnjs.cloudflare.com/ajax/libs/require.js/2.3.6/require.min.js\");\n",
       "    script.onload = function(){\n",
       "        renderPlotly_6c13aa51716843e29c2996b58b897688();\n",
       "    };\n",
       "    document.getElementsByTagName(\"head\")[0].appendChild(script);\n",
       "}\n",
       "else {\n",
       "    renderPlotly_6c13aa51716843e29c2996b58b897688();\n",
       "}\n",
       "</script></div>"
      ]
     },
     "metadata": {},
     "output_type": "display_data"
    }
   ],
   "source": [
    "Chart.Violin(X = marketValues)\n",
    "    |> Chart.withTitle \"Player Market Value Distribution\"\n",
    "    |> Chart.withTraceInfo \"Market Value\"\n",
    "    |> Chart.withSize(600, 350)"
   ]
  },
  {
   "cell_type": "code",
   "execution_count": 21,
   "metadata": {
    "dotnet_interactive": {
     "language": "fsharp"
    },
    "polyglot_notebook": {
     "kernelName": "fsharp"
    },
    "vscode": {
     "languageId": "polyglot-notebook"
    }
   },
   "outputs": [
    {
     "data": {
      "text/html": [
       "<div><div id=\"4883d43a-9d1d-447d-b034-591eabf04b14\"><!-- Plotly chart will be drawn inside this DIV --></div><script type=\"text/javascript\">\n",
       "var renderPlotly_4883d43a9d1d447db034591eabf04b14 = function() {\n",
       "    var fsharpPlotlyRequire = requirejs.config({context:'fsharp-plotly',paths:{plotly:'https://cdn.plot.ly/plotly-2.27.1.min'}}) || require;\n",
       "    fsharpPlotlyRequire(['plotly'], function(Plotly) {\n",
       "        var data = [{\"type\":\"violin\",\"x\":[1000000.0,600000.0,250000.0,1200000.0,500000.0,1000000.0,1000000.0,1500000.0,2500000.0,1000000.0,1000000.0,1000000.0,400000.0,1000000.0,3500000.0,11000000.0,6000000.0,2500000.0,10000000.0,1000000.0,8000000.0,32000000.0,1800000.0,8000000.0,900000.0,14000000.0,7000000.0,10000000.0,10000000.0,7000000.0,13000000.0,20000000.0,10000000.0,65000000.0,50000000.0,400000.0,32000000.0,1500000.0,2800000.0,13000000.0,15000000.0,15000000.0,12000000.0,1000000.0,2000000.0,1000000.0,7000000.0,7000000.0,5000000.0,30000000.0,20000000.0,35000000.0,1500000.0,10000000.0,2500000.0,10000000.0,22000000.0,2500000.0,1000000.0,3500000.0,20000000.0,12000000.0,15000000.0,3000000.0,5000000.0,28000000.0,5000000.0,10000000.0,13000000.0,30000000.0,17000000.0,16000000.0,35000000.0,16000000.0,22000000.0,22000000.0,42000000.0,10000000.0,30000000.0,1800000.0,25000000.0,30000000.0,8000000.0,70000000.0,50000000.0,10000000.0,10000000.0,75000000.0,10000000.0,3000000.0,35000000.0,20000000.0,25000000.0,50000000.0,22000000.0,3000000.0,35000000.0,25000000.0,28000000.0,25000000.0,25000000.0,7000000.0,85000000.0,12000000.0,32000000.0,35000000.0,3000000.0,9000000.0,7000000.0,35000000.0,17000000.0,2500000.0,4000000.0,18000000.0,65000000.0,22000000.0,17000000.0,15000000.0,1000000.0,16000000.0,70000000.0,12000000.0,15000000.0,65000000.0,18000000.0,17000000.0,10000000.0,11000000.0,50000000.0,3500000.0,38000000.0,17000000.0,65000000.0,8000000.0,18000000.0,38000000.0,35000000.0,45000000.0,70000000.0,12000000.0,4500000.0,4500000.0,18000000.0,10000000.0,45000000.0,16000000.0,40000000.0,55000000.0,40000000.0,13000000.0,15000000.0,10000000.0,15000000.0,12000000.0,75000000.0,12000000.0,30000000.0,1800000.0,16000000.0,12000000.0,50000000.0,17000000.0,45000000.0,28000000.0,25000000.0,10000000.0,48000000.0,18000000.0,35000000.0,25000000.0,25000000.0,2000000.0,20000000.0,20000000.0,18000000.0,7000000.0,35000000.0,30000000.0,11000000.0,22000000.0,15000000.0,25000000.0,35000000.0,30000000.0,13000000.0,35000000.0,20000000.0,40000000.0,6000000.0,30000000.0,2000000.0,20000000.0,20000000.0,20000000.0,22000000.0,2500000.0,18000000.0,65000000.0,11000000.0,12000000.0,7000000.0,3000000.0,10000000.0,13000000.0],\"marker\":{},\"line\":{},\"box\":{},\"points\":\"all\",\"name\":\"Market Value\"}];\n",
       "        var layout = {\"width\":600,\"height\":350,\"template\":{\"layout\":{\"title\":{\"x\":0.05},\"font\":{\"color\":\"rgba(42, 63, 95, 1.0)\"},\"paper_bgcolor\":\"rgba(255, 255, 255, 1.0)\",\"plot_bgcolor\":\"rgba(229, 236, 246, 1.0)\",\"autotypenumbers\":\"strict\",\"colorscale\":{\"diverging\":[[0.0,\"#8e0152\"],[0.1,\"#c51b7d\"],[0.2,\"#de77ae\"],[0.3,\"#f1b6da\"],[0.4,\"#fde0ef\"],[0.5,\"#f7f7f7\"],[0.6,\"#e6f5d0\"],[0.7,\"#b8e186\"],[0.8,\"#7fbc41\"],[0.9,\"#4d9221\"],[1.0,\"#276419\"]],\"sequential\":[[0.0,\"#0d0887\"],[0.1111111111111111,\"#46039f\"],[0.2222222222222222,\"#7201a8\"],[0.3333333333333333,\"#9c179e\"],[0.4444444444444444,\"#bd3786\"],[0.5555555555555556,\"#d8576b\"],[0.6666666666666666,\"#ed7953\"],[0.7777777777777778,\"#fb9f3a\"],[0.8888888888888888,\"#fdca26\"],[1.0,\"#f0f921\"]],\"sequentialminus\":[[0.0,\"#0d0887\"],[0.1111111111111111,\"#46039f\"],[0.2222222222222222,\"#7201a8\"],[0.3333333333333333,\"#9c179e\"],[0.4444444444444444,\"#bd3786\"],[0.5555555555555556,\"#d8576b\"],[0.6666666666666666,\"#ed7953\"],[0.7777777777777778,\"#fb9f3a\"],[0.8888888888888888,\"#fdca26\"],[1.0,\"#f0f921\"]]},\"hovermode\":\"closest\",\"hoverlabel\":{\"align\":\"left\"},\"coloraxis\":{\"colorbar\":{\"outlinewidth\":0.0,\"ticks\":\"\"}},\"geo\":{\"showland\":true,\"landcolor\":\"rgba(229, 236, 246, 1.0)\",\"showlakes\":true,\"lakecolor\":\"rgba(255, 255, 255, 1.0)\",\"subunitcolor\":\"rgba(255, 255, 255, 1.0)\",\"bgcolor\":\"rgba(255, 255, 255, 1.0)\"},\"mapbox\":{\"style\":\"light\"},\"polar\":{\"bgcolor\":\"rgba(229, 236, 246, 1.0)\",\"radialaxis\":{\"linecolor\":\"rgba(255, 255, 255, 1.0)\",\"gridcolor\":\"rgba(255, 255, 255, 1.0)\",\"ticks\":\"\"},\"angularaxis\":{\"linecolor\":\"rgba(255, 255, 255, 1.0)\",\"gridcolor\":\"rgba(255, 255, 255, 1.0)\",\"ticks\":\"\"}},\"scene\":{\"xaxis\":{\"ticks\":\"\",\"linecolor\":\"rgba(255, 255, 255, 1.0)\",\"gridcolor\":\"rgba(255, 255, 255, 1.0)\",\"gridwidth\":2.0,\"zerolinecolor\":\"rgba(255, 255, 255, 1.0)\",\"backgroundcolor\":\"rgba(229, 236, 246, 1.0)\",\"showbackground\":true},\"yaxis\":{\"ticks\":\"\",\"linecolor\":\"rgba(255, 255, 255, 1.0)\",\"gridcolor\":\"rgba(255, 255, 255, 1.0)\",\"gridwidth\":2.0,\"zerolinecolor\":\"rgba(255, 255, 255, 1.0)\",\"backgroundcolor\":\"rgba(229, 236, 246, 1.0)\",\"showbackground\":true},\"zaxis\":{\"ticks\":\"\",\"linecolor\":\"rgba(255, 255, 255, 1.0)\",\"gridcolor\":\"rgba(255, 255, 255, 1.0)\",\"gridwidth\":2.0,\"zerolinecolor\":\"rgba(255, 255, 255, 1.0)\",\"backgroundcolor\":\"rgba(229, 236, 246, 1.0)\",\"showbackground\":true}},\"ternary\":{\"aaxis\":{\"ticks\":\"\",\"linecolor\":\"rgba(255, 255, 255, 1.0)\",\"gridcolor\":\"rgba(255, 255, 255, 1.0)\"},\"baxis\":{\"ticks\":\"\",\"linecolor\":\"rgba(255, 255, 255, 1.0)\",\"gridcolor\":\"rgba(255, 255, 255, 1.0)\"},\"caxis\":{\"ticks\":\"\",\"linecolor\":\"rgba(255, 255, 255, 1.0)\",\"gridcolor\":\"rgba(255, 255, 255, 1.0)\"},\"bgcolor\":\"rgba(229, 236, 246, 1.0)\"},\"xaxis\":{\"title\":{\"standoff\":15},\"ticks\":\"\",\"automargin\":\"height+width+left+right+top+bottom\",\"linecolor\":\"rgba(255, 255, 255, 1.0)\",\"gridcolor\":\"rgba(255, 255, 255, 1.0)\",\"zerolinecolor\":\"rgba(255, 255, 255, 1.0)\",\"zerolinewidth\":2.0},\"yaxis\":{\"title\":{\"standoff\":15},\"ticks\":\"\",\"automargin\":\"height+width+left+right+top+bottom\",\"linecolor\":\"rgba(255, 255, 255, 1.0)\",\"gridcolor\":\"rgba(255, 255, 255, 1.0)\",\"zerolinecolor\":\"rgba(255, 255, 255, 1.0)\",\"zerolinewidth\":2.0},\"annotationdefaults\":{\"arrowcolor\":\"#2a3f5f\",\"arrowhead\":0,\"arrowwidth\":1},\"shapedefaults\":{\"line\":{\"color\":\"rgba(42, 63, 95, 1.0)\"}},\"colorway\":[\"rgba(99, 110, 250, 1.0)\",\"rgba(239, 85, 59, 1.0)\",\"rgba(0, 204, 150, 1.0)\",\"rgba(171, 99, 250, 1.0)\",\"rgba(255, 161, 90, 1.0)\",\"rgba(25, 211, 243, 1.0)\",\"rgba(255, 102, 146, 1.0)\",\"rgba(182, 232, 128, 1.0)\",\"rgba(255, 151, 255, 1.0)\",\"rgba(254, 203, 82, 1.0)\"]},\"data\":{\"bar\":[{\"marker\":{\"line\":{\"color\":\"rgba(229, 236, 246, 1.0)\",\"width\":0.5},\"pattern\":{\"fillmode\":\"overlay\",\"size\":10,\"solidity\":0.2}},\"error_x\":{\"color\":\"rgba(42, 63, 95, 1.0)\"},\"error_y\":{\"color\":\"rgba(42, 63, 95, 1.0)\"}}],\"barpolar\":[{\"marker\":{\"line\":{\"color\":\"rgba(229, 236, 246, 1.0)\",\"width\":0.5},\"pattern\":{\"fillmode\":\"overlay\",\"size\":10,\"solidity\":0.2}}}],\"carpet\":[{\"aaxis\":{\"linecolor\":\"rgba(255, 255, 255, 1.0)\",\"gridcolor\":\"rgba(255, 255, 255, 1.0)\",\"endlinecolor\":\"rgba(42, 63, 95, 1.0)\",\"minorgridcolor\":\"rgba(255, 255, 255, 1.0)\",\"startlinecolor\":\"rgba(42, 63, 95, 1.0)\"},\"baxis\":{\"linecolor\":\"rgba(255, 255, 255, 1.0)\",\"gridcolor\":\"rgba(255, 255, 255, 1.0)\",\"endlinecolor\":\"rgba(42, 63, 95, 1.0)\",\"minorgridcolor\":\"rgba(255, 255, 255, 1.0)\",\"startlinecolor\":\"rgba(42, 63, 95, 1.0)\"}}],\"choropleth\":[{\"colorbar\":{\"outlinewidth\":0.0,\"ticks\":\"\"},\"colorscale\":[[0.0,\"#0d0887\"],[0.1111111111111111,\"#46039f\"],[0.2222222222222222,\"#7201a8\"],[0.3333333333333333,\"#9c179e\"],[0.4444444444444444,\"#bd3786\"],[0.5555555555555556,\"#d8576b\"],[0.6666666666666666,\"#ed7953\"],[0.7777777777777778,\"#fb9f3a\"],[0.8888888888888888,\"#fdca26\"],[1.0,\"#f0f921\"]]}],\"contour\":[{\"colorbar\":{\"outlinewidth\":0.0,\"ticks\":\"\"},\"colorscale\":[[0.0,\"#0d0887\"],[0.1111111111111111,\"#46039f\"],[0.2222222222222222,\"#7201a8\"],[0.3333333333333333,\"#9c179e\"],[0.4444444444444444,\"#bd3786\"],[0.5555555555555556,\"#d8576b\"],[0.6666666666666666,\"#ed7953\"],[0.7777777777777778,\"#fb9f3a\"],[0.8888888888888888,\"#fdca26\"],[1.0,\"#f0f921\"]]}],\"contourcarpet\":[{\"colorbar\":{\"outlinewidth\":0.0,\"ticks\":\"\"}}],\"heatmap\":[{\"colorbar\":{\"outlinewidth\":0.0,\"ticks\":\"\"},\"colorscale\":[[0.0,\"#0d0887\"],[0.1111111111111111,\"#46039f\"],[0.2222222222222222,\"#7201a8\"],[0.3333333333333333,\"#9c179e\"],[0.4444444444444444,\"#bd3786\"],[0.5555555555555556,\"#d8576b\"],[0.6666666666666666,\"#ed7953\"],[0.7777777777777778,\"#fb9f3a\"],[0.8888888888888888,\"#fdca26\"],[1.0,\"#f0f921\"]]}],\"heatmapgl\":[{\"colorbar\":{\"outlinewidth\":0.0,\"ticks\":\"\"},\"colorscale\":[[0.0,\"#0d0887\"],[0.1111111111111111,\"#46039f\"],[0.2222222222222222,\"#7201a8\"],[0.3333333333333333,\"#9c179e\"],[0.4444444444444444,\"#bd3786\"],[0.5555555555555556,\"#d8576b\"],[0.6666666666666666,\"#ed7953\"],[0.7777777777777778,\"#fb9f3a\"],[0.8888888888888888,\"#fdca26\"],[1.0,\"#f0f921\"]]}],\"histogram\":[{\"marker\":{\"pattern\":{\"fillmode\":\"overlay\",\"size\":10,\"solidity\":0.2}}}],\"histogram2d\":[{\"colorbar\":{\"outlinewidth\":0.0,\"ticks\":\"\"},\"colorscale\":[[0.0,\"#0d0887\"],[0.1111111111111111,\"#46039f\"],[0.2222222222222222,\"#7201a8\"],[0.3333333333333333,\"#9c179e\"],[0.4444444444444444,\"#bd3786\"],[0.5555555555555556,\"#d8576b\"],[0.6666666666666666,\"#ed7953\"],[0.7777777777777778,\"#fb9f3a\"],[0.8888888888888888,\"#fdca26\"],[1.0,\"#f0f921\"]]}],\"histogram2dcontour\":[{\"colorbar\":{\"outlinewidth\":0.0,\"ticks\":\"\"},\"colorscale\":[[0.0,\"#0d0887\"],[0.1111111111111111,\"#46039f\"],[0.2222222222222222,\"#7201a8\"],[0.3333333333333333,\"#9c179e\"],[0.4444444444444444,\"#bd3786\"],[0.5555555555555556,\"#d8576b\"],[0.6666666666666666,\"#ed7953\"],[0.7777777777777778,\"#fb9f3a\"],[0.8888888888888888,\"#fdca26\"],[1.0,\"#f0f921\"]]}],\"mesh3d\":[{\"colorbar\":{\"outlinewidth\":0.0,\"ticks\":\"\"}}],\"parcoords\":[{\"line\":{\"colorbar\":{\"outlinewidth\":0.0,\"ticks\":\"\"}}}],\"pie\":[{\"automargin\":true}],\"scatter\":[{\"marker\":{\"colorbar\":{\"outlinewidth\":0.0,\"ticks\":\"\"}}}],\"scatter3d\":[{\"marker\":{\"colorbar\":{\"outlinewidth\":0.0,\"ticks\":\"\"}},\"line\":{\"colorbar\":{\"outlinewidth\":0.0,\"ticks\":\"\"}}}],\"scattercarpet\":[{\"marker\":{\"colorbar\":{\"outlinewidth\":0.0,\"ticks\":\"\"}}}],\"scattergeo\":[{\"marker\":{\"colorbar\":{\"outlinewidth\":0.0,\"ticks\":\"\"}}}],\"scattergl\":[{\"marker\":{\"colorbar\":{\"outlinewidth\":0.0,\"ticks\":\"\"}}}],\"scattermapbox\":[{\"marker\":{\"colorbar\":{\"outlinewidth\":0.0,\"ticks\":\"\"}}}],\"scatterpolar\":[{\"marker\":{\"colorbar\":{\"outlinewidth\":0.0,\"ticks\":\"\"}}}],\"scatterpolargl\":[{\"marker\":{\"colorbar\":{\"outlinewidth\":0.0,\"ticks\":\"\"}}}],\"scatterternary\":[{\"marker\":{\"colorbar\":{\"outlinewidth\":0.0,\"ticks\":\"\"}}}],\"surface\":[{\"colorbar\":{\"outlinewidth\":0.0,\"ticks\":\"\"},\"colorscale\":[[0.0,\"#0d0887\"],[0.1111111111111111,\"#46039f\"],[0.2222222222222222,\"#7201a8\"],[0.3333333333333333,\"#9c179e\"],[0.4444444444444444,\"#bd3786\"],[0.5555555555555556,\"#d8576b\"],[0.6666666666666666,\"#ed7953\"],[0.7777777777777778,\"#fb9f3a\"],[0.8888888888888888,\"#fdca26\"],[1.0,\"#f0f921\"]]}],\"table\":[{\"cells\":{\"fill\":{\"color\":\"rgba(235, 240, 248, 1.0)\"},\"line\":{\"color\":\"rgba(255, 255, 255, 1.0)\"}},\"header\":{\"fill\":{\"color\":\"rgba(200, 212, 227, 1.0)\"},\"line\":{\"color\":\"rgba(255, 255, 255, 1.0)\"}}}]}},\"title\":{\"text\":\"Player Market Value Distribution\"}};\n",
       "        var config = {\"responsive\":true};\n",
       "        Plotly.newPlot('4883d43a-9d1d-447d-b034-591eabf04b14', data, layout, config);\n",
       "    });\n",
       "};\n",
       "if ((typeof(requirejs) !==  typeof(Function)) || (typeof(requirejs.config) !== typeof(Function))) {\n",
       "    var script = document.createElement(\"script\");\n",
       "    script.setAttribute(\"charset\", \"utf-8\");\n",
       "    script.setAttribute(\"src\", \"https://cdnjs.cloudflare.com/ajax/libs/require.js/2.3.6/require.min.js\");\n",
       "    script.onload = function(){\n",
       "        renderPlotly_4883d43a9d1d447db034591eabf04b14();\n",
       "    };\n",
       "    document.getElementsByTagName(\"head\")[0].appendChild(script);\n",
       "}\n",
       "else {\n",
       "    renderPlotly_4883d43a9d1d447db034591eabf04b14();\n",
       "}\n",
       "</script></div>"
      ]
     },
     "metadata": {},
     "output_type": "display_data"
    }
   ],
   "source": [
    "Chart.Violin(X = marketValues,\n",
    "                Points = StyleParam.JitterPoints.All)\n",
    "    |> Chart.withTitle \"Player Market Value Distribution\"\n",
    "    |> Chart.withTraceInfo \"Market Value\"\n",
    "    |> Chart.withSize(600, 350)"
   ]
  },
  {
   "cell_type": "code",
   "execution_count": 22,
   "metadata": {
    "dotnet_interactive": {
     "language": "fsharp"
    },
    "polyglot_notebook": {
     "kernelName": "fsharp"
    },
    "vscode": {
     "languageId": "polyglot-notebook"
    }
   },
   "outputs": [
    {
     "data": {
      "text/html": [
       "<div><div id=\"afd886d1-a18e-4c2b-bda1-eb287e45be43\"><!-- Plotly chart will be drawn inside this DIV --></div><script type=\"text/javascript\">\n",
       "var renderPlotly_afd886d1a18e4c2bbda1eb287e45be43 = function() {\n",
       "    var fsharpPlotlyRequire = requirejs.config({context:'fsharp-plotly',paths:{plotly:'https://cdn.plot.ly/plotly-2.27.1.min'}}) || require;\n",
       "    fsharpPlotlyRequire(['plotly'], function(Plotly) {\n",
       "        var data = [{\"type\":\"histogram\",\"x\":[1000000.0,600000.0,250000.0,1200000.0,500000.0,1000000.0,1000000.0,1500000.0,2500000.0,1000000.0,1000000.0,1000000.0,400000.0,1000000.0,3500000.0,11000000.0,6000000.0,2500000.0,10000000.0,1000000.0,8000000.0,32000000.0,1800000.0,8000000.0,900000.0,14000000.0,7000000.0,10000000.0,10000000.0,7000000.0,13000000.0,20000000.0,10000000.0,65000000.0,50000000.0,400000.0,32000000.0,1500000.0,2800000.0,13000000.0,15000000.0,15000000.0,12000000.0,1000000.0,2000000.0,1000000.0,7000000.0,7000000.0,5000000.0,30000000.0,20000000.0,35000000.0,1500000.0,10000000.0,2500000.0,10000000.0,22000000.0,2500000.0,1000000.0,3500000.0,20000000.0,12000000.0,15000000.0,3000000.0,5000000.0,28000000.0,5000000.0,10000000.0,13000000.0,30000000.0,17000000.0,16000000.0,35000000.0,16000000.0,22000000.0,22000000.0,42000000.0,10000000.0,30000000.0,1800000.0,25000000.0,30000000.0,8000000.0,70000000.0,50000000.0,10000000.0,10000000.0,75000000.0,10000000.0,3000000.0,35000000.0,20000000.0,25000000.0,50000000.0,22000000.0,3000000.0,35000000.0,25000000.0,28000000.0,25000000.0,25000000.0,7000000.0,85000000.0,12000000.0,32000000.0,35000000.0,3000000.0,9000000.0,7000000.0,35000000.0,17000000.0,2500000.0,4000000.0,18000000.0,65000000.0,22000000.0,17000000.0,15000000.0,1000000.0,16000000.0,70000000.0,12000000.0,15000000.0,65000000.0,18000000.0,17000000.0,10000000.0,11000000.0,50000000.0,3500000.0,38000000.0,17000000.0,65000000.0,8000000.0,18000000.0,38000000.0,35000000.0,45000000.0,70000000.0,12000000.0,4500000.0,4500000.0,18000000.0,10000000.0,45000000.0,16000000.0,40000000.0,55000000.0,40000000.0,13000000.0,15000000.0,10000000.0,15000000.0,12000000.0,75000000.0,12000000.0,30000000.0,1800000.0,16000000.0,12000000.0,50000000.0,17000000.0,45000000.0,28000000.0,25000000.0,10000000.0,48000000.0,18000000.0,35000000.0,25000000.0,25000000.0,2000000.0,20000000.0,20000000.0,18000000.0,7000000.0,35000000.0,30000000.0,11000000.0,22000000.0,15000000.0,25000000.0,35000000.0,30000000.0,13000000.0,35000000.0,20000000.0,40000000.0,6000000.0,30000000.0,2000000.0,20000000.0,20000000.0,20000000.0,22000000.0,2500000.0,18000000.0,65000000.0,11000000.0,12000000.0,7000000.0,3000000.0,10000000.0,13000000.0],\"marker\":{\"pattern\":{}}}];\n",
       "        var layout = {\"width\":500,\"height\":300,\"template\":{\"layout\":{\"title\":{\"x\":0.05},\"font\":{\"color\":\"rgba(42, 63, 95, 1.0)\"},\"paper_bgcolor\":\"rgba(255, 255, 255, 1.0)\",\"plot_bgcolor\":\"rgba(229, 236, 246, 1.0)\",\"autotypenumbers\":\"strict\",\"colorscale\":{\"diverging\":[[0.0,\"#8e0152\"],[0.1,\"#c51b7d\"],[0.2,\"#de77ae\"],[0.3,\"#f1b6da\"],[0.4,\"#fde0ef\"],[0.5,\"#f7f7f7\"],[0.6,\"#e6f5d0\"],[0.7,\"#b8e186\"],[0.8,\"#7fbc41\"],[0.9,\"#4d9221\"],[1.0,\"#276419\"]],\"sequential\":[[0.0,\"#0d0887\"],[0.1111111111111111,\"#46039f\"],[0.2222222222222222,\"#7201a8\"],[0.3333333333333333,\"#9c179e\"],[0.4444444444444444,\"#bd3786\"],[0.5555555555555556,\"#d8576b\"],[0.6666666666666666,\"#ed7953\"],[0.7777777777777778,\"#fb9f3a\"],[0.8888888888888888,\"#fdca26\"],[1.0,\"#f0f921\"]],\"sequentialminus\":[[0.0,\"#0d0887\"],[0.1111111111111111,\"#46039f\"],[0.2222222222222222,\"#7201a8\"],[0.3333333333333333,\"#9c179e\"],[0.4444444444444444,\"#bd3786\"],[0.5555555555555556,\"#d8576b\"],[0.6666666666666666,\"#ed7953\"],[0.7777777777777778,\"#fb9f3a\"],[0.8888888888888888,\"#fdca26\"],[1.0,\"#f0f921\"]]},\"hovermode\":\"closest\",\"hoverlabel\":{\"align\":\"left\"},\"coloraxis\":{\"colorbar\":{\"outlinewidth\":0.0,\"ticks\":\"\"}},\"geo\":{\"showland\":true,\"landcolor\":\"rgba(229, 236, 246, 1.0)\",\"showlakes\":true,\"lakecolor\":\"rgba(255, 255, 255, 1.0)\",\"subunitcolor\":\"rgba(255, 255, 255, 1.0)\",\"bgcolor\":\"rgba(255, 255, 255, 1.0)\"},\"mapbox\":{\"style\":\"light\"},\"polar\":{\"bgcolor\":\"rgba(229, 236, 246, 1.0)\",\"radialaxis\":{\"linecolor\":\"rgba(255, 255, 255, 1.0)\",\"gridcolor\":\"rgba(255, 255, 255, 1.0)\",\"ticks\":\"\"},\"angularaxis\":{\"linecolor\":\"rgba(255, 255, 255, 1.0)\",\"gridcolor\":\"rgba(255, 255, 255, 1.0)\",\"ticks\":\"\"}},\"scene\":{\"xaxis\":{\"ticks\":\"\",\"linecolor\":\"rgba(255, 255, 255, 1.0)\",\"gridcolor\":\"rgba(255, 255, 255, 1.0)\",\"gridwidth\":2.0,\"zerolinecolor\":\"rgba(255, 255, 255, 1.0)\",\"backgroundcolor\":\"rgba(229, 236, 246, 1.0)\",\"showbackground\":true},\"yaxis\":{\"ticks\":\"\",\"linecolor\":\"rgba(255, 255, 255, 1.0)\",\"gridcolor\":\"rgba(255, 255, 255, 1.0)\",\"gridwidth\":2.0,\"zerolinecolor\":\"rgba(255, 255, 255, 1.0)\",\"backgroundcolor\":\"rgba(229, 236, 246, 1.0)\",\"showbackground\":true},\"zaxis\":{\"ticks\":\"\",\"linecolor\":\"rgba(255, 255, 255, 1.0)\",\"gridcolor\":\"rgba(255, 255, 255, 1.0)\",\"gridwidth\":2.0,\"zerolinecolor\":\"rgba(255, 255, 255, 1.0)\",\"backgroundcolor\":\"rgba(229, 236, 246, 1.0)\",\"showbackground\":true}},\"ternary\":{\"aaxis\":{\"ticks\":\"\",\"linecolor\":\"rgba(255, 255, 255, 1.0)\",\"gridcolor\":\"rgba(255, 255, 255, 1.0)\"},\"baxis\":{\"ticks\":\"\",\"linecolor\":\"rgba(255, 255, 255, 1.0)\",\"gridcolor\":\"rgba(255, 255, 255, 1.0)\"},\"caxis\":{\"ticks\":\"\",\"linecolor\":\"rgba(255, 255, 255, 1.0)\",\"gridcolor\":\"rgba(255, 255, 255, 1.0)\"},\"bgcolor\":\"rgba(229, 236, 246, 1.0)\"},\"xaxis\":{\"title\":{\"standoff\":15},\"ticks\":\"\",\"automargin\":\"height+width+left+right+top+bottom\",\"linecolor\":\"rgba(255, 255, 255, 1.0)\",\"gridcolor\":\"rgba(255, 255, 255, 1.0)\",\"zerolinecolor\":\"rgba(255, 255, 255, 1.0)\",\"zerolinewidth\":2.0},\"yaxis\":{\"title\":{\"standoff\":15},\"ticks\":\"\",\"automargin\":\"height+width+left+right+top+bottom\",\"linecolor\":\"rgba(255, 255, 255, 1.0)\",\"gridcolor\":\"rgba(255, 255, 255, 1.0)\",\"zerolinecolor\":\"rgba(255, 255, 255, 1.0)\",\"zerolinewidth\":2.0},\"annotationdefaults\":{\"arrowcolor\":\"#2a3f5f\",\"arrowhead\":0,\"arrowwidth\":1},\"shapedefaults\":{\"line\":{\"color\":\"rgba(42, 63, 95, 1.0)\"}},\"colorway\":[\"rgba(99, 110, 250, 1.0)\",\"rgba(239, 85, 59, 1.0)\",\"rgba(0, 204, 150, 1.0)\",\"rgba(171, 99, 250, 1.0)\",\"rgba(255, 161, 90, 1.0)\",\"rgba(25, 211, 243, 1.0)\",\"rgba(255, 102, 146, 1.0)\",\"rgba(182, 232, 128, 1.0)\",\"rgba(255, 151, 255, 1.0)\",\"rgba(254, 203, 82, 1.0)\"]},\"data\":{\"bar\":[{\"marker\":{\"line\":{\"color\":\"rgba(229, 236, 246, 1.0)\",\"width\":0.5},\"pattern\":{\"fillmode\":\"overlay\",\"size\":10,\"solidity\":0.2}},\"error_x\":{\"color\":\"rgba(42, 63, 95, 1.0)\"},\"error_y\":{\"color\":\"rgba(42, 63, 95, 1.0)\"}}],\"barpolar\":[{\"marker\":{\"line\":{\"color\":\"rgba(229, 236, 246, 1.0)\",\"width\":0.5},\"pattern\":{\"fillmode\":\"overlay\",\"size\":10,\"solidity\":0.2}}}],\"carpet\":[{\"aaxis\":{\"linecolor\":\"rgba(255, 255, 255, 1.0)\",\"gridcolor\":\"rgba(255, 255, 255, 1.0)\",\"endlinecolor\":\"rgba(42, 63, 95, 1.0)\",\"minorgridcolor\":\"rgba(255, 255, 255, 1.0)\",\"startlinecolor\":\"rgba(42, 63, 95, 1.0)\"},\"baxis\":{\"linecolor\":\"rgba(255, 255, 255, 1.0)\",\"gridcolor\":\"rgba(255, 255, 255, 1.0)\",\"endlinecolor\":\"rgba(42, 63, 95, 1.0)\",\"minorgridcolor\":\"rgba(255, 255, 255, 1.0)\",\"startlinecolor\":\"rgba(42, 63, 95, 1.0)\"}}],\"choropleth\":[{\"colorbar\":{\"outlinewidth\":0.0,\"ticks\":\"\"},\"colorscale\":[[0.0,\"#0d0887\"],[0.1111111111111111,\"#46039f\"],[0.2222222222222222,\"#7201a8\"],[0.3333333333333333,\"#9c179e\"],[0.4444444444444444,\"#bd3786\"],[0.5555555555555556,\"#d8576b\"],[0.6666666666666666,\"#ed7953\"],[0.7777777777777778,\"#fb9f3a\"],[0.8888888888888888,\"#fdca26\"],[1.0,\"#f0f921\"]]}],\"contour\":[{\"colorbar\":{\"outlinewidth\":0.0,\"ticks\":\"\"},\"colorscale\":[[0.0,\"#0d0887\"],[0.1111111111111111,\"#46039f\"],[0.2222222222222222,\"#7201a8\"],[0.3333333333333333,\"#9c179e\"],[0.4444444444444444,\"#bd3786\"],[0.5555555555555556,\"#d8576b\"],[0.6666666666666666,\"#ed7953\"],[0.7777777777777778,\"#fb9f3a\"],[0.8888888888888888,\"#fdca26\"],[1.0,\"#f0f921\"]]}],\"contourcarpet\":[{\"colorbar\":{\"outlinewidth\":0.0,\"ticks\":\"\"}}],\"heatmap\":[{\"colorbar\":{\"outlinewidth\":0.0,\"ticks\":\"\"},\"colorscale\":[[0.0,\"#0d0887\"],[0.1111111111111111,\"#46039f\"],[0.2222222222222222,\"#7201a8\"],[0.3333333333333333,\"#9c179e\"],[0.4444444444444444,\"#bd3786\"],[0.5555555555555556,\"#d8576b\"],[0.6666666666666666,\"#ed7953\"],[0.7777777777777778,\"#fb9f3a\"],[0.8888888888888888,\"#fdca26\"],[1.0,\"#f0f921\"]]}],\"heatmapgl\":[{\"colorbar\":{\"outlinewidth\":0.0,\"ticks\":\"\"},\"colorscale\":[[0.0,\"#0d0887\"],[0.1111111111111111,\"#46039f\"],[0.2222222222222222,\"#7201a8\"],[0.3333333333333333,\"#9c179e\"],[0.4444444444444444,\"#bd3786\"],[0.5555555555555556,\"#d8576b\"],[0.6666666666666666,\"#ed7953\"],[0.7777777777777778,\"#fb9f3a\"],[0.8888888888888888,\"#fdca26\"],[1.0,\"#f0f921\"]]}],\"histogram\":[{\"marker\":{\"pattern\":{\"fillmode\":\"overlay\",\"size\":10,\"solidity\":0.2}}}],\"histogram2d\":[{\"colorbar\":{\"outlinewidth\":0.0,\"ticks\":\"\"},\"colorscale\":[[0.0,\"#0d0887\"],[0.1111111111111111,\"#46039f\"],[0.2222222222222222,\"#7201a8\"],[0.3333333333333333,\"#9c179e\"],[0.4444444444444444,\"#bd3786\"],[0.5555555555555556,\"#d8576b\"],[0.6666666666666666,\"#ed7953\"],[0.7777777777777778,\"#fb9f3a\"],[0.8888888888888888,\"#fdca26\"],[1.0,\"#f0f921\"]]}],\"histogram2dcontour\":[{\"colorbar\":{\"outlinewidth\":0.0,\"ticks\":\"\"},\"colorscale\":[[0.0,\"#0d0887\"],[0.1111111111111111,\"#46039f\"],[0.2222222222222222,\"#7201a8\"],[0.3333333333333333,\"#9c179e\"],[0.4444444444444444,\"#bd3786\"],[0.5555555555555556,\"#d8576b\"],[0.6666666666666666,\"#ed7953\"],[0.7777777777777778,\"#fb9f3a\"],[0.8888888888888888,\"#fdca26\"],[1.0,\"#f0f921\"]]}],\"mesh3d\":[{\"colorbar\":{\"outlinewidth\":0.0,\"ticks\":\"\"}}],\"parcoords\":[{\"line\":{\"colorbar\":{\"outlinewidth\":0.0,\"ticks\":\"\"}}}],\"pie\":[{\"automargin\":true}],\"scatter\":[{\"marker\":{\"colorbar\":{\"outlinewidth\":0.0,\"ticks\":\"\"}}}],\"scatter3d\":[{\"marker\":{\"colorbar\":{\"outlinewidth\":0.0,\"ticks\":\"\"}},\"line\":{\"colorbar\":{\"outlinewidth\":0.0,\"ticks\":\"\"}}}],\"scattercarpet\":[{\"marker\":{\"colorbar\":{\"outlinewidth\":0.0,\"ticks\":\"\"}}}],\"scattergeo\":[{\"marker\":{\"colorbar\":{\"outlinewidth\":0.0,\"ticks\":\"\"}}}],\"scattergl\":[{\"marker\":{\"colorbar\":{\"outlinewidth\":0.0,\"ticks\":\"\"}}}],\"scattermapbox\":[{\"marker\":{\"colorbar\":{\"outlinewidth\":0.0,\"ticks\":\"\"}}}],\"scatterpolar\":[{\"marker\":{\"colorbar\":{\"outlinewidth\":0.0,\"ticks\":\"\"}}}],\"scatterpolargl\":[{\"marker\":{\"colorbar\":{\"outlinewidth\":0.0,\"ticks\":\"\"}}}],\"scatterternary\":[{\"marker\":{\"colorbar\":{\"outlinewidth\":0.0,\"ticks\":\"\"}}}],\"surface\":[{\"colorbar\":{\"outlinewidth\":0.0,\"ticks\":\"\"},\"colorscale\":[[0.0,\"#0d0887\"],[0.1111111111111111,\"#46039f\"],[0.2222222222222222,\"#7201a8\"],[0.3333333333333333,\"#9c179e\"],[0.4444444444444444,\"#bd3786\"],[0.5555555555555556,\"#d8576b\"],[0.6666666666666666,\"#ed7953\"],[0.7777777777777778,\"#fb9f3a\"],[0.8888888888888888,\"#fdca26\"],[1.0,\"#f0f921\"]]}],\"table\":[{\"cells\":{\"fill\":{\"color\":\"rgba(235, 240, 248, 1.0)\"},\"line\":{\"color\":\"rgba(255, 255, 255, 1.0)\"}},\"header\":{\"fill\":{\"color\":\"rgba(200, 212, 227, 1.0)\"},\"line\":{\"color\":\"rgba(255, 255, 255, 1.0)\"}}}]}},\"title\":{\"text\":\"Player Market Value Distribution\"}};\n",
       "        var config = {\"responsive\":true};\n",
       "        Plotly.newPlot('afd886d1-a18e-4c2b-bda1-eb287e45be43', data, layout, config);\n",
       "    });\n",
       "};\n",
       "if ((typeof(requirejs) !==  typeof(Function)) || (typeof(requirejs.config) !== typeof(Function))) {\n",
       "    var script = document.createElement(\"script\");\n",
       "    script.setAttribute(\"charset\", \"utf-8\");\n",
       "    script.setAttribute(\"src\", \"https://cdnjs.cloudflare.com/ajax/libs/require.js/2.3.6/require.min.js\");\n",
       "    script.onload = function(){\n",
       "        renderPlotly_afd886d1a18e4c2bbda1eb287e45be43();\n",
       "    };\n",
       "    document.getElementsByTagName(\"head\")[0].appendChild(script);\n",
       "}\n",
       "else {\n",
       "    renderPlotly_afd886d1a18e4c2bbda1eb287e45be43();\n",
       "}\n",
       "</script></div>"
      ]
     },
     "metadata": {},
     "output_type": "display_data"
    }
   ],
   "source": [
    "Chart.Histogram(X = marketValues)\n",
    "    |> Chart.withTitle \"Player Market Value Distribution\"\n",
    "    |> Chart.withSize(500, 300)"
   ]
  },
  {
   "cell_type": "code",
   "execution_count": null,
   "metadata": {
    "vscode": {
     "languageId": "polyglot-notebook"
    }
   },
   "outputs": [],
   "source": []
  }
 ],
 "metadata": {
  "kernelspec": {
   "display_name": ".NET (C#)",
   "language": "C#",
   "name": ".net-csharp"
  },
  "language_info": {
   "name": "python"
  },
  "polyglot_notebook": {
   "kernelInfo": {
    "defaultKernelName": "csharp",
    "items": [
     {
      "aliases": [],
      "name": "csharp"
     }
    ]
   }
  }
 },
 "nbformat": 4,
 "nbformat_minor": 2
}
